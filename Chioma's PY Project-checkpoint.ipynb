{
 "cells": [
  {
   "cell_type": "code",
   "execution_count": 1,
   "id": "c09bd14f-c79e-4023-98e7-7ead911d5918",
   "metadata": {},
   "outputs": [],
   "source": [
    "import numpy as np, pandas as pd\n",
    "import matplotlib.pyplot as plt\n",
    "import seaborn as sns "
   ]
  },
  {
   "cell_type": "code",
   "execution_count": 2,
   "id": "6274eaa9-422a-4838-81bb-4292c3c2209a",
   "metadata": {
    "tags": []
   },
   "outputs": [
    {
     "data": {
      "text/html": [
       "<div>\n",
       "<style scoped>\n",
       "    .dataframe tbody tr th:only-of-type {\n",
       "        vertical-align: middle;\n",
       "    }\n",
       "\n",
       "    .dataframe tbody tr th {\n",
       "        vertical-align: top;\n",
       "    }\n",
       "\n",
       "    .dataframe thead th {\n",
       "        text-align: right;\n",
       "    }\n",
       "</style>\n",
       "<table border=\"1\" class=\"dataframe\">\n",
       "  <thead>\n",
       "    <tr style=\"text-align: right;\">\n",
       "      <th></th>\n",
       "      <th>Unnamed: 0</th>\n",
       "      <th>country_id</th>\n",
       "      <th>country</th>\n",
       "      <th>state_id</th>\n",
       "      <th>state</th>\n",
       "      <th>market_id</th>\n",
       "      <th>market</th>\n",
       "      <th>produce_id</th>\n",
       "      <th>produce</th>\n",
       "      <th>currency_id</th>\n",
       "      <th>currency</th>\n",
       "      <th>pt_id</th>\n",
       "      <th>market_type</th>\n",
       "      <th>um_unit_id</th>\n",
       "      <th>quantity</th>\n",
       "      <th>month</th>\n",
       "      <th>year</th>\n",
       "      <th>price</th>\n",
       "      <th>mp_commoditysource</th>\n",
       "    </tr>\n",
       "  </thead>\n",
       "  <tbody>\n",
       "    <tr>\n",
       "      <th>0</th>\n",
       "      <td>15427</td>\n",
       "      <td>4.0</td>\n",
       "      <td>Algeria</td>\n",
       "      <td>344</td>\n",
       "      <td>Alger</td>\n",
       "      <td>1794</td>\n",
       "      <td>Algiers</td>\n",
       "      <td>52</td>\n",
       "      <td>Rice - Retail</td>\n",
       "      <td>0.0</td>\n",
       "      <td>DZD</td>\n",
       "      <td>15</td>\n",
       "      <td>Retail</td>\n",
       "      <td>5</td>\n",
       "      <td>KG</td>\n",
       "      <td>4</td>\n",
       "      <td>2015</td>\n",
       "      <td>90.0</td>\n",
       "      <td>NaN</td>\n",
       "    </tr>\n",
       "    <tr>\n",
       "      <th>1</th>\n",
       "      <td>15428</td>\n",
       "      <td>4.0</td>\n",
       "      <td>Algeria</td>\n",
       "      <td>344</td>\n",
       "      <td>Alger</td>\n",
       "      <td>1794</td>\n",
       "      <td>Algiers</td>\n",
       "      <td>52</td>\n",
       "      <td>Rice - Retail</td>\n",
       "      <td>0.0</td>\n",
       "      <td>DZD</td>\n",
       "      <td>15</td>\n",
       "      <td>Retail</td>\n",
       "      <td>5</td>\n",
       "      <td>KG</td>\n",
       "      <td>5</td>\n",
       "      <td>2015</td>\n",
       "      <td>96.0</td>\n",
       "      <td>NaN</td>\n",
       "    </tr>\n",
       "    <tr>\n",
       "      <th>2</th>\n",
       "      <td>15429</td>\n",
       "      <td>4.0</td>\n",
       "      <td>Algeria</td>\n",
       "      <td>344</td>\n",
       "      <td>Alger</td>\n",
       "      <td>1794</td>\n",
       "      <td>Algiers</td>\n",
       "      <td>52</td>\n",
       "      <td>Rice - Retail</td>\n",
       "      <td>0.0</td>\n",
       "      <td>DZD</td>\n",
       "      <td>15</td>\n",
       "      <td>Retail</td>\n",
       "      <td>5</td>\n",
       "      <td>KG</td>\n",
       "      <td>6</td>\n",
       "      <td>2015</td>\n",
       "      <td>96.0</td>\n",
       "      <td>NaN</td>\n",
       "    </tr>\n",
       "    <tr>\n",
       "      <th>3</th>\n",
       "      <td>15430</td>\n",
       "      <td>4.0</td>\n",
       "      <td>Algeria</td>\n",
       "      <td>344</td>\n",
       "      <td>Alger</td>\n",
       "      <td>1794</td>\n",
       "      <td>Algiers</td>\n",
       "      <td>52</td>\n",
       "      <td>Rice - Retail</td>\n",
       "      <td>0.0</td>\n",
       "      <td>DZD</td>\n",
       "      <td>15</td>\n",
       "      <td>Retail</td>\n",
       "      <td>5</td>\n",
       "      <td>KG</td>\n",
       "      <td>7</td>\n",
       "      <td>2015</td>\n",
       "      <td>83.0</td>\n",
       "      <td>NaN</td>\n",
       "    </tr>\n",
       "    <tr>\n",
       "      <th>4</th>\n",
       "      <td>15431</td>\n",
       "      <td>4.0</td>\n",
       "      <td>Algeria</td>\n",
       "      <td>344</td>\n",
       "      <td>Alger</td>\n",
       "      <td>1794</td>\n",
       "      <td>Algiers</td>\n",
       "      <td>52</td>\n",
       "      <td>Rice - Retail</td>\n",
       "      <td>0.0</td>\n",
       "      <td>DZD</td>\n",
       "      <td>15</td>\n",
       "      <td>Retail</td>\n",
       "      <td>5</td>\n",
       "      <td>KG</td>\n",
       "      <td>8</td>\n",
       "      <td>2015</td>\n",
       "      <td>80.0</td>\n",
       "      <td>NaN</td>\n",
       "    </tr>\n",
       "  </tbody>\n",
       "</table>\n",
       "</div>"
      ],
      "text/plain": [
       "   Unnamed: 0  country_id  country  state_id  state  market_id   market  \\\n",
       "0       15427         4.0  Algeria       344  Alger       1794  Algiers   \n",
       "1       15428         4.0  Algeria       344  Alger       1794  Algiers   \n",
       "2       15429         4.0  Algeria       344  Alger       1794  Algiers   \n",
       "3       15430         4.0  Algeria       344  Alger       1794  Algiers   \n",
       "4       15431         4.0  Algeria       344  Alger       1794  Algiers   \n",
       "\n",
       "   produce_id        produce  currency_id currency  pt_id market_type  \\\n",
       "0          52  Rice - Retail          0.0      DZD     15      Retail   \n",
       "1          52  Rice - Retail          0.0      DZD     15      Retail   \n",
       "2          52  Rice - Retail          0.0      DZD     15      Retail   \n",
       "3          52  Rice - Retail          0.0      DZD     15      Retail   \n",
       "4          52  Rice - Retail          0.0      DZD     15      Retail   \n",
       "\n",
       "   um_unit_id quantity  month  year  price  mp_commoditysource  \n",
       "0           5       KG      4  2015   90.0                 NaN  \n",
       "1           5       KG      5  2015   96.0                 NaN  \n",
       "2           5       KG      6  2015   96.0                 NaN  \n",
       "3           5       KG      7  2015   83.0                 NaN  \n",
       "4           5       KG      8  2015   80.0                 NaN  "
      ]
     },
     "execution_count": 2,
     "metadata": {},
     "output_type": "execute_result"
    }
   ],
   "source": [
    "#loading of the data\n",
    "products = pd.read_csv('africa_food_prices.csv')\n",
    "products.head()"
   ]
  },
  {
   "cell_type": "markdown",
   "id": "95643c9e-d96f-4788-a104-7dfb98664d1b",
   "metadata": {},
   "source": [
    "# Functional Exploration"
   ]
  },
  {
   "cell_type": "code",
   "execution_count": 3,
   "id": "9f7371f4-2ecd-4101-9e76-83bfe95c8d77",
   "metadata": {
    "tags": []
   },
   "outputs": [
    {
     "name": "stdout",
     "output_type": "stream",
     "text": [
      "<class 'pandas.core.frame.DataFrame'>\n",
      "RangeIndex: 956779 entries, 0 to 956778\n",
      "Data columns (total 19 columns):\n",
      " #   Column              Non-Null Count   Dtype  \n",
      "---  ------              --------------   -----  \n",
      " 0   Unnamed: 0          956779 non-null  int64  \n",
      " 1   country_id          956779 non-null  float64\n",
      " 2   country             956779 non-null  object \n",
      " 3   state_id            956779 non-null  int64  \n",
      " 4   state               830101 non-null  object \n",
      " 5   market_id           956779 non-null  int64  \n",
      " 6   market              956779 non-null  object \n",
      " 7   produce_id          956779 non-null  int64  \n",
      " 8   produce             956779 non-null  object \n",
      " 9   currency_id         956779 non-null  float64\n",
      " 10  currency            956779 non-null  object \n",
      " 11  pt_id               956779 non-null  int64  \n",
      " 12  market_type         956779 non-null  object \n",
      " 13  um_unit_id          956779 non-null  int64  \n",
      " 14  quantity            956779 non-null  object \n",
      " 15  month               956779 non-null  int64  \n",
      " 16  year                956779 non-null  int64  \n",
      " 17  price               956779 non-null  float64\n",
      " 18  mp_commoditysource  0 non-null       float64\n",
      "dtypes: float64(4), int64(8), object(7)\n",
      "memory usage: 138.7+ MB\n"
     ]
    }
   ],
   "source": [
    "#information about the dataset\n",
    "products.info()"
   ]
  },
  {
   "cell_type": "code",
   "execution_count": 4,
   "id": "f224a13a-748e-4d10-9c49-807dc58eb45c",
   "metadata": {
    "tags": []
   },
   "outputs": [
    {
     "data": {
      "text/html": [
       "<div>\n",
       "<style scoped>\n",
       "    .dataframe tbody tr th:only-of-type {\n",
       "        vertical-align: middle;\n",
       "    }\n",
       "\n",
       "    .dataframe tbody tr th {\n",
       "        vertical-align: top;\n",
       "    }\n",
       "\n",
       "    .dataframe thead th {\n",
       "        text-align: right;\n",
       "    }\n",
       "</style>\n",
       "<table border=\"1\" class=\"dataframe\">\n",
       "  <thead>\n",
       "    <tr style=\"text-align: right;\">\n",
       "      <th></th>\n",
       "      <th>Unnamed: 0</th>\n",
       "      <th>country_id</th>\n",
       "      <th>country</th>\n",
       "      <th>state_id</th>\n",
       "      <th>state</th>\n",
       "      <th>market_id</th>\n",
       "      <th>market</th>\n",
       "      <th>produce_id</th>\n",
       "      <th>produce</th>\n",
       "      <th>currency_id</th>\n",
       "      <th>currency</th>\n",
       "      <th>pt_id</th>\n",
       "      <th>market_type</th>\n",
       "      <th>um_unit_id</th>\n",
       "      <th>quantity</th>\n",
       "      <th>month</th>\n",
       "      <th>year</th>\n",
       "      <th>price</th>\n",
       "      <th>mp_commoditysource</th>\n",
       "    </tr>\n",
       "  </thead>\n",
       "  <tbody>\n",
       "    <tr>\n",
       "      <th>0</th>\n",
       "      <td>False</td>\n",
       "      <td>False</td>\n",
       "      <td>False</td>\n",
       "      <td>False</td>\n",
       "      <td>False</td>\n",
       "      <td>False</td>\n",
       "      <td>False</td>\n",
       "      <td>False</td>\n",
       "      <td>False</td>\n",
       "      <td>False</td>\n",
       "      <td>False</td>\n",
       "      <td>False</td>\n",
       "      <td>False</td>\n",
       "      <td>False</td>\n",
       "      <td>False</td>\n",
       "      <td>False</td>\n",
       "      <td>False</td>\n",
       "      <td>False</td>\n",
       "      <td>True</td>\n",
       "    </tr>\n",
       "    <tr>\n",
       "      <th>1</th>\n",
       "      <td>False</td>\n",
       "      <td>False</td>\n",
       "      <td>False</td>\n",
       "      <td>False</td>\n",
       "      <td>False</td>\n",
       "      <td>False</td>\n",
       "      <td>False</td>\n",
       "      <td>False</td>\n",
       "      <td>False</td>\n",
       "      <td>False</td>\n",
       "      <td>False</td>\n",
       "      <td>False</td>\n",
       "      <td>False</td>\n",
       "      <td>False</td>\n",
       "      <td>False</td>\n",
       "      <td>False</td>\n",
       "      <td>False</td>\n",
       "      <td>False</td>\n",
       "      <td>True</td>\n",
       "    </tr>\n",
       "    <tr>\n",
       "      <th>2</th>\n",
       "      <td>False</td>\n",
       "      <td>False</td>\n",
       "      <td>False</td>\n",
       "      <td>False</td>\n",
       "      <td>False</td>\n",
       "      <td>False</td>\n",
       "      <td>False</td>\n",
       "      <td>False</td>\n",
       "      <td>False</td>\n",
       "      <td>False</td>\n",
       "      <td>False</td>\n",
       "      <td>False</td>\n",
       "      <td>False</td>\n",
       "      <td>False</td>\n",
       "      <td>False</td>\n",
       "      <td>False</td>\n",
       "      <td>False</td>\n",
       "      <td>False</td>\n",
       "      <td>True</td>\n",
       "    </tr>\n",
       "    <tr>\n",
       "      <th>3</th>\n",
       "      <td>False</td>\n",
       "      <td>False</td>\n",
       "      <td>False</td>\n",
       "      <td>False</td>\n",
       "      <td>False</td>\n",
       "      <td>False</td>\n",
       "      <td>False</td>\n",
       "      <td>False</td>\n",
       "      <td>False</td>\n",
       "      <td>False</td>\n",
       "      <td>False</td>\n",
       "      <td>False</td>\n",
       "      <td>False</td>\n",
       "      <td>False</td>\n",
       "      <td>False</td>\n",
       "      <td>False</td>\n",
       "      <td>False</td>\n",
       "      <td>False</td>\n",
       "      <td>True</td>\n",
       "    </tr>\n",
       "    <tr>\n",
       "      <th>4</th>\n",
       "      <td>False</td>\n",
       "      <td>False</td>\n",
       "      <td>False</td>\n",
       "      <td>False</td>\n",
       "      <td>False</td>\n",
       "      <td>False</td>\n",
       "      <td>False</td>\n",
       "      <td>False</td>\n",
       "      <td>False</td>\n",
       "      <td>False</td>\n",
       "      <td>False</td>\n",
       "      <td>False</td>\n",
       "      <td>False</td>\n",
       "      <td>False</td>\n",
       "      <td>False</td>\n",
       "      <td>False</td>\n",
       "      <td>False</td>\n",
       "      <td>False</td>\n",
       "      <td>True</td>\n",
       "    </tr>\n",
       "    <tr>\n",
       "      <th>...</th>\n",
       "      <td>...</td>\n",
       "      <td>...</td>\n",
       "      <td>...</td>\n",
       "      <td>...</td>\n",
       "      <td>...</td>\n",
       "      <td>...</td>\n",
       "      <td>...</td>\n",
       "      <td>...</td>\n",
       "      <td>...</td>\n",
       "      <td>...</td>\n",
       "      <td>...</td>\n",
       "      <td>...</td>\n",
       "      <td>...</td>\n",
       "      <td>...</td>\n",
       "      <td>...</td>\n",
       "      <td>...</td>\n",
       "      <td>...</td>\n",
       "      <td>...</td>\n",
       "      <td>...</td>\n",
       "    </tr>\n",
       "    <tr>\n",
       "      <th>956774</th>\n",
       "      <td>False</td>\n",
       "      <td>False</td>\n",
       "      <td>False</td>\n",
       "      <td>False</td>\n",
       "      <td>False</td>\n",
       "      <td>False</td>\n",
       "      <td>False</td>\n",
       "      <td>False</td>\n",
       "      <td>False</td>\n",
       "      <td>False</td>\n",
       "      <td>False</td>\n",
       "      <td>False</td>\n",
       "      <td>False</td>\n",
       "      <td>False</td>\n",
       "      <td>False</td>\n",
       "      <td>False</td>\n",
       "      <td>False</td>\n",
       "      <td>False</td>\n",
       "      <td>True</td>\n",
       "    </tr>\n",
       "    <tr>\n",
       "      <th>956775</th>\n",
       "      <td>False</td>\n",
       "      <td>False</td>\n",
       "      <td>False</td>\n",
       "      <td>False</td>\n",
       "      <td>False</td>\n",
       "      <td>False</td>\n",
       "      <td>False</td>\n",
       "      <td>False</td>\n",
       "      <td>False</td>\n",
       "      <td>False</td>\n",
       "      <td>False</td>\n",
       "      <td>False</td>\n",
       "      <td>False</td>\n",
       "      <td>False</td>\n",
       "      <td>False</td>\n",
       "      <td>False</td>\n",
       "      <td>False</td>\n",
       "      <td>False</td>\n",
       "      <td>True</td>\n",
       "    </tr>\n",
       "    <tr>\n",
       "      <th>956776</th>\n",
       "      <td>False</td>\n",
       "      <td>False</td>\n",
       "      <td>False</td>\n",
       "      <td>False</td>\n",
       "      <td>False</td>\n",
       "      <td>False</td>\n",
       "      <td>False</td>\n",
       "      <td>False</td>\n",
       "      <td>False</td>\n",
       "      <td>False</td>\n",
       "      <td>False</td>\n",
       "      <td>False</td>\n",
       "      <td>False</td>\n",
       "      <td>False</td>\n",
       "      <td>False</td>\n",
       "      <td>False</td>\n",
       "      <td>False</td>\n",
       "      <td>False</td>\n",
       "      <td>True</td>\n",
       "    </tr>\n",
       "    <tr>\n",
       "      <th>956777</th>\n",
       "      <td>False</td>\n",
       "      <td>False</td>\n",
       "      <td>False</td>\n",
       "      <td>False</td>\n",
       "      <td>False</td>\n",
       "      <td>False</td>\n",
       "      <td>False</td>\n",
       "      <td>False</td>\n",
       "      <td>False</td>\n",
       "      <td>False</td>\n",
       "      <td>False</td>\n",
       "      <td>False</td>\n",
       "      <td>False</td>\n",
       "      <td>False</td>\n",
       "      <td>False</td>\n",
       "      <td>False</td>\n",
       "      <td>False</td>\n",
       "      <td>False</td>\n",
       "      <td>True</td>\n",
       "    </tr>\n",
       "    <tr>\n",
       "      <th>956778</th>\n",
       "      <td>False</td>\n",
       "      <td>False</td>\n",
       "      <td>False</td>\n",
       "      <td>False</td>\n",
       "      <td>False</td>\n",
       "      <td>False</td>\n",
       "      <td>False</td>\n",
       "      <td>False</td>\n",
       "      <td>False</td>\n",
       "      <td>False</td>\n",
       "      <td>False</td>\n",
       "      <td>False</td>\n",
       "      <td>False</td>\n",
       "      <td>False</td>\n",
       "      <td>False</td>\n",
       "      <td>False</td>\n",
       "      <td>False</td>\n",
       "      <td>False</td>\n",
       "      <td>True</td>\n",
       "    </tr>\n",
       "  </tbody>\n",
       "</table>\n",
       "<p>956779 rows × 19 columns</p>\n",
       "</div>"
      ],
      "text/plain": [
       "        Unnamed: 0  country_id  country  state_id  state  market_id  market  \\\n",
       "0            False       False    False     False  False      False   False   \n",
       "1            False       False    False     False  False      False   False   \n",
       "2            False       False    False     False  False      False   False   \n",
       "3            False       False    False     False  False      False   False   \n",
       "4            False       False    False     False  False      False   False   \n",
       "...            ...         ...      ...       ...    ...        ...     ...   \n",
       "956774       False       False    False     False  False      False   False   \n",
       "956775       False       False    False     False  False      False   False   \n",
       "956776       False       False    False     False  False      False   False   \n",
       "956777       False       False    False     False  False      False   False   \n",
       "956778       False       False    False     False  False      False   False   \n",
       "\n",
       "        produce_id  produce  currency_id  currency  pt_id  market_type  \\\n",
       "0            False    False        False     False  False        False   \n",
       "1            False    False        False     False  False        False   \n",
       "2            False    False        False     False  False        False   \n",
       "3            False    False        False     False  False        False   \n",
       "4            False    False        False     False  False        False   \n",
       "...            ...      ...          ...       ...    ...          ...   \n",
       "956774       False    False        False     False  False        False   \n",
       "956775       False    False        False     False  False        False   \n",
       "956776       False    False        False     False  False        False   \n",
       "956777       False    False        False     False  False        False   \n",
       "956778       False    False        False     False  False        False   \n",
       "\n",
       "        um_unit_id  quantity  month   year  price  mp_commoditysource  \n",
       "0            False     False  False  False  False                True  \n",
       "1            False     False  False  False  False                True  \n",
       "2            False     False  False  False  False                True  \n",
       "3            False     False  False  False  False                True  \n",
       "4            False     False  False  False  False                True  \n",
       "...            ...       ...    ...    ...    ...                 ...  \n",
       "956774       False     False  False  False  False                True  \n",
       "956775       False     False  False  False  False                True  \n",
       "956776       False     False  False  False  False                True  \n",
       "956777       False     False  False  False  False                True  \n",
       "956778       False     False  False  False  False                True  \n",
       "\n",
       "[956779 rows x 19 columns]"
      ]
     },
     "execution_count": 4,
     "metadata": {},
     "output_type": "execute_result"
    }
   ],
   "source": [
    "# confirming if there are any null values.\n",
    "products.isna() "
   ]
  },
  {
   "cell_type": "code",
   "execution_count": 5,
   "id": "a6880686-5fdd-4a94-a0ab-ad4dee16d993",
   "metadata": {
    "tags": []
   },
   "outputs": [
    {
     "data": {
      "text/html": [
       "<div>\n",
       "<style scoped>\n",
       "    .dataframe tbody tr th:only-of-type {\n",
       "        vertical-align: middle;\n",
       "    }\n",
       "\n",
       "    .dataframe tbody tr th {\n",
       "        vertical-align: top;\n",
       "    }\n",
       "\n",
       "    .dataframe thead th {\n",
       "        text-align: right;\n",
       "    }\n",
       "</style>\n",
       "<table border=\"1\" class=\"dataframe\">\n",
       "  <thead>\n",
       "    <tr style=\"text-align: right;\">\n",
       "      <th></th>\n",
       "      <th>Unnamed: 0</th>\n",
       "      <th>country_id</th>\n",
       "      <th>country</th>\n",
       "      <th>state_id</th>\n",
       "      <th>state</th>\n",
       "      <th>market_id</th>\n",
       "      <th>market</th>\n",
       "      <th>produce_id</th>\n",
       "      <th>produce</th>\n",
       "      <th>currency_id</th>\n",
       "      <th>currency</th>\n",
       "      <th>pt_id</th>\n",
       "      <th>market_type</th>\n",
       "      <th>um_unit_id</th>\n",
       "      <th>quantity</th>\n",
       "      <th>month</th>\n",
       "      <th>year</th>\n",
       "      <th>price</th>\n",
       "      <th>mp_commoditysource</th>\n",
       "    </tr>\n",
       "  </thead>\n",
       "  <tbody>\n",
       "    <tr>\n",
       "      <th>956774</th>\n",
       "      <td>2050633</td>\n",
       "      <td>271.0</td>\n",
       "      <td>Zimbabwe</td>\n",
       "      <td>3444</td>\n",
       "      <td>Midlands</td>\n",
       "      <td>5594</td>\n",
       "      <td>Mbilashaba</td>\n",
       "      <td>432</td>\n",
       "      <td>Beans (sugar) - Retail</td>\n",
       "      <td>0.0</td>\n",
       "      <td>ZWL</td>\n",
       "      <td>15</td>\n",
       "      <td>Retail</td>\n",
       "      <td>5</td>\n",
       "      <td>KG</td>\n",
       "      <td>6</td>\n",
       "      <td>2021</td>\n",
       "      <td>233.3333</td>\n",
       "      <td>NaN</td>\n",
       "    </tr>\n",
       "    <tr>\n",
       "      <th>956775</th>\n",
       "      <td>2050634</td>\n",
       "      <td>271.0</td>\n",
       "      <td>Zimbabwe</td>\n",
       "      <td>3444</td>\n",
       "      <td>Midlands</td>\n",
       "      <td>5594</td>\n",
       "      <td>Mbilashaba</td>\n",
       "      <td>539</td>\n",
       "      <td>Toothpaste - Retail</td>\n",
       "      <td>0.0</td>\n",
       "      <td>ZWL</td>\n",
       "      <td>15</td>\n",
       "      <td>Retail</td>\n",
       "      <td>116</td>\n",
       "      <td>100 ML</td>\n",
       "      <td>6</td>\n",
       "      <td>2021</td>\n",
       "      <td>112.5000</td>\n",
       "      <td>NaN</td>\n",
       "    </tr>\n",
       "    <tr>\n",
       "      <th>956776</th>\n",
       "      <td>2050635</td>\n",
       "      <td>271.0</td>\n",
       "      <td>Zimbabwe</td>\n",
       "      <td>3444</td>\n",
       "      <td>Midlands</td>\n",
       "      <td>5594</td>\n",
       "      <td>Mbilashaba</td>\n",
       "      <td>540</td>\n",
       "      <td>Laundry soap - Retail</td>\n",
       "      <td>0.0</td>\n",
       "      <td>ZWL</td>\n",
       "      <td>15</td>\n",
       "      <td>Retail</td>\n",
       "      <td>5</td>\n",
       "      <td>KG</td>\n",
       "      <td>6</td>\n",
       "      <td>2021</td>\n",
       "      <td>114.0000</td>\n",
       "      <td>NaN</td>\n",
       "    </tr>\n",
       "    <tr>\n",
       "      <th>956777</th>\n",
       "      <td>2050636</td>\n",
       "      <td>271.0</td>\n",
       "      <td>Zimbabwe</td>\n",
       "      <td>3444</td>\n",
       "      <td>Midlands</td>\n",
       "      <td>5594</td>\n",
       "      <td>Mbilashaba</td>\n",
       "      <td>541</td>\n",
       "      <td>Handwash soap - Retail</td>\n",
       "      <td>0.0</td>\n",
       "      <td>ZWL</td>\n",
       "      <td>15</td>\n",
       "      <td>Retail</td>\n",
       "      <td>66</td>\n",
       "      <td>250 G</td>\n",
       "      <td>6</td>\n",
       "      <td>2021</td>\n",
       "      <td>59.5000</td>\n",
       "      <td>NaN</td>\n",
       "    </tr>\n",
       "    <tr>\n",
       "      <th>956778</th>\n",
       "      <td>2050637</td>\n",
       "      <td>271.0</td>\n",
       "      <td>Zimbabwe</td>\n",
       "      <td>3444</td>\n",
       "      <td>Midlands</td>\n",
       "      <td>5594</td>\n",
       "      <td>Mbilashaba</td>\n",
       "      <td>887</td>\n",
       "      <td>Fish (kapenta) - Retail</td>\n",
       "      <td>0.0</td>\n",
       "      <td>ZWL</td>\n",
       "      <td>15</td>\n",
       "      <td>Retail</td>\n",
       "      <td>5</td>\n",
       "      <td>KG</td>\n",
       "      <td>6</td>\n",
       "      <td>2021</td>\n",
       "      <td>1200.0000</td>\n",
       "      <td>NaN</td>\n",
       "    </tr>\n",
       "  </tbody>\n",
       "</table>\n",
       "</div>"
      ],
      "text/plain": [
       "        Unnamed: 0  country_id   country  state_id     state  market_id  \\\n",
       "956774     2050633       271.0  Zimbabwe      3444  Midlands       5594   \n",
       "956775     2050634       271.0  Zimbabwe      3444  Midlands       5594   \n",
       "956776     2050635       271.0  Zimbabwe      3444  Midlands       5594   \n",
       "956777     2050636       271.0  Zimbabwe      3444  Midlands       5594   \n",
       "956778     2050637       271.0  Zimbabwe      3444  Midlands       5594   \n",
       "\n",
       "            market  produce_id                  produce  currency_id currency  \\\n",
       "956774  Mbilashaba         432   Beans (sugar) - Retail          0.0      ZWL   \n",
       "956775  Mbilashaba         539      Toothpaste - Retail          0.0      ZWL   \n",
       "956776  Mbilashaba         540    Laundry soap - Retail          0.0      ZWL   \n",
       "956777  Mbilashaba         541   Handwash soap - Retail          0.0      ZWL   \n",
       "956778  Mbilashaba         887  Fish (kapenta) - Retail          0.0      ZWL   \n",
       "\n",
       "        pt_id market_type  um_unit_id quantity  month  year      price  \\\n",
       "956774     15      Retail           5       KG      6  2021   233.3333   \n",
       "956775     15      Retail         116   100 ML      6  2021   112.5000   \n",
       "956776     15      Retail           5       KG      6  2021   114.0000   \n",
       "956777     15      Retail          66    250 G      6  2021    59.5000   \n",
       "956778     15      Retail           5       KG      6  2021  1200.0000   \n",
       "\n",
       "        mp_commoditysource  \n",
       "956774                 NaN  \n",
       "956775                 NaN  \n",
       "956776                 NaN  \n",
       "956777                 NaN  \n",
       "956778                 NaN  "
      ]
     },
     "execution_count": 5,
     "metadata": {},
     "output_type": "execute_result"
    }
   ],
   "source": [
    "products.tail()"
   ]
  },
  {
   "cell_type": "code",
   "execution_count": 6,
   "id": "8e10e229-d678-4f05-a56b-a684a434729d",
   "metadata": {
    "tags": []
   },
   "outputs": [
    {
     "data": {
      "text/plain": [
       "(956779, 19)"
      ]
     },
     "execution_count": 6,
     "metadata": {},
     "output_type": "execute_result"
    }
   ],
   "source": [
    "products.shape"
   ]
  },
  {
   "cell_type": "code",
   "execution_count": 7,
   "id": "69e785d2-fb96-4278-9d33-34b30abed6d3",
   "metadata": {
    "tags": []
   },
   "outputs": [
    {
     "data": {
      "text/plain": [
       "Index(['Unnamed: 0', 'country_id', 'country', 'state_id', 'state', 'market_id',\n",
       "       'market', 'produce_id', 'produce', 'currency_id', 'currency', 'pt_id',\n",
       "       'market_type', 'um_unit_id', 'quantity', 'month', 'year', 'price',\n",
       "       'mp_commoditysource'],\n",
       "      dtype='object')"
      ]
     },
     "execution_count": 7,
     "metadata": {},
     "output_type": "execute_result"
    }
   ],
   "source": [
    "# show columns in the dataset\n",
    "products.columns"
   ]
  },
  {
   "cell_type": "code",
   "execution_count": 8,
   "id": "1e217618-7c90-4167-954a-caef9dbd0f54",
   "metadata": {},
   "outputs": [],
   "source": [
    "#dropping unnecessary columns\n",
    "products.drop(columns=['Unnamed: 0','mp_commoditysource','currency_id','country_id',\n",
    "                       'market_id','state_id','pt_id'], inplace= True)"
   ]
  },
  {
   "cell_type": "code",
   "execution_count": 9,
   "id": "126a7de6-9967-4633-abc1-5cb2b306d742",
   "metadata": {
    "tags": []
   },
   "outputs": [
    {
     "name": "stdout",
     "output_type": "stream",
     "text": [
      "<class 'pandas.core.frame.DataFrame'>\n",
      "RangeIndex: 956779 entries, 0 to 956778\n",
      "Data columns (total 12 columns):\n",
      " #   Column       Non-Null Count   Dtype  \n",
      "---  ------       --------------   -----  \n",
      " 0   country      956779 non-null  object \n",
      " 1   state        830101 non-null  object \n",
      " 2   market       956779 non-null  object \n",
      " 3   produce_id   956779 non-null  int64  \n",
      " 4   produce      956779 non-null  object \n",
      " 5   currency     956779 non-null  object \n",
      " 6   market_type  956779 non-null  object \n",
      " 7   um_unit_id   956779 non-null  int64  \n",
      " 8   quantity     956779 non-null  object \n",
      " 9   month        956779 non-null  int64  \n",
      " 10  year         956779 non-null  int64  \n",
      " 11  price        956779 non-null  float64\n",
      "dtypes: float64(1), int64(4), object(7)\n",
      "memory usage: 87.6+ MB\n"
     ]
    }
   ],
   "source": [
    "# checking if the changes were made\n",
    "products.info()"
   ]
  },
  {
   "cell_type": "code",
   "execution_count": 10,
   "id": "4f6b9625-8c0b-4807-86b6-e7bd1b2f4568",
   "metadata": {
    "tags": []
   },
   "outputs": [],
   "source": [
    "# fulling all nulls with Barnawa\n",
    "products.state.fillna(\"barnawa\", inplace=True)"
   ]
  },
  {
   "cell_type": "code",
   "execution_count": 11,
   "id": "34f587e8-60da-40a4-b8ef-549daa6a8fc0",
   "metadata": {
    "tags": []
   },
   "outputs": [
    {
     "data": {
      "text/plain": [
       "country         object\n",
       "state           object\n",
       "market          object\n",
       "produce_id       int64\n",
       "produce         object\n",
       "currency        object\n",
       "market_type     object\n",
       "um_unit_id       int64\n",
       "quantity        object\n",
       "month            int64\n",
       "year             int64\n",
       "price          float64\n",
       "dtype: object"
      ]
     },
     "execution_count": 11,
     "metadata": {},
     "output_type": "execute_result"
    }
   ],
   "source": [
    "#checking the types for each columns\n",
    "products.dtypes"
   ]
  },
  {
   "cell_type": "code",
   "execution_count": 12,
   "id": "664685b4-4f38-4616-b588-85f317dcfcd0",
   "metadata": {
    "tags": []
   },
   "outputs": [
    {
     "data": {
      "text/plain": [
       "(956779, 12)"
      ]
     },
     "execution_count": 12,
     "metadata": {},
     "output_type": "execute_result"
    }
   ],
   "source": [
    "products.shape"
   ]
  },
  {
   "cell_type": "code",
   "execution_count": 13,
   "id": "a3cd907c-ec01-4d38-9329-db476d9f4440",
   "metadata": {
    "tags": []
   },
   "outputs": [
    {
     "data": {
      "text/plain": [
       "country        0\n",
       "state          0\n",
       "market         0\n",
       "produce_id     0\n",
       "produce        0\n",
       "currency       0\n",
       "market_type    0\n",
       "um_unit_id     0\n",
       "quantity       0\n",
       "month          0\n",
       "year           0\n",
       "price          0\n",
       "dtype: int64"
      ]
     },
     "execution_count": 13,
     "metadata": {},
     "output_type": "execute_result"
    }
   ],
   "source": [
    "# check if nulls still exist \n",
    "products.isnull().sum()"
   ]
  },
  {
   "cell_type": "code",
   "execution_count": 14,
   "id": "7517cdf1-0bde-47af-8247-f1a0be842eda",
   "metadata": {
    "tags": []
   },
   "outputs": [
    {
     "name": "stdout",
     "output_type": "stream",
     "text": [
      "<class 'pandas.core.frame.DataFrame'>\n",
      "RangeIndex: 956779 entries, 0 to 956778\n",
      "Data columns (total 12 columns):\n",
      " #   Column       Non-Null Count   Dtype  \n",
      "---  ------       --------------   -----  \n",
      " 0   country      956779 non-null  object \n",
      " 1   state        956779 non-null  object \n",
      " 2   market       956779 non-null  object \n",
      " 3   produce_id   956779 non-null  int64  \n",
      " 4   produce      956779 non-null  object \n",
      " 5   currency     956779 non-null  object \n",
      " 6   market_type  956779 non-null  object \n",
      " 7   um_unit_id   956779 non-null  int64  \n",
      " 8   quantity     956779 non-null  object \n",
      " 9   month        956779 non-null  int64  \n",
      " 10  year         956779 non-null  int64  \n",
      " 11  price        956779 non-null  float64\n",
      "dtypes: float64(1), int64(4), object(7)\n",
      "memory usage: 87.6+ MB\n"
     ]
    }
   ],
   "source": [
    "products.info()"
   ]
  },
  {
   "cell_type": "code",
   "execution_count": 15,
   "id": "ac072319-8c98-4b4d-b7a7-bbda0de92291",
   "metadata": {
    "tags": []
   },
   "outputs": [],
   "source": [
    "# rename column \n",
    "products.rename({'market_type': 'trade_class'}, axis=1, inplace=True)"
   ]
  },
  {
   "cell_type": "code",
   "execution_count": 16,
   "id": "d15c7ba8-8bfb-4751-8980-e3e258ea824d",
   "metadata": {
    "tags": []
   },
   "outputs": [],
   "source": [
    "# renamme column\n",
    "products.rename({'um_unit_id': 'amount_swapped'}, axis=1, inplace=True)"
   ]
  },
  {
   "cell_type": "code",
   "execution_count": 17,
   "id": "c218f570-7038-415b-adc7-1af66828eeae",
   "metadata": {
    "tags": []
   },
   "outputs": [
    {
     "data": {
      "text/plain": [
       "Index(['country', 'state', 'market', 'produce_id', 'produce', 'currency',\n",
       "       'trade_class', 'amount_swapped', 'quantity', 'month', 'year', 'price'],\n",
       "      dtype='object')"
      ]
     },
     "execution_count": 17,
     "metadata": {},
     "output_type": "execute_result"
    }
   ],
   "source": [
    "products.columns"
   ]
  },
  {
   "cell_type": "code",
   "execution_count": 18,
   "id": "583ef48a-5c99-4b07-afb7-f9429d9f4520",
   "metadata": {
    "tags": []
   },
   "outputs": [
    {
     "data": {
      "text/plain": [
       "trade_class\n",
       "Retail       885918\n",
       "Wholesale     70613\n",
       "Producer        248\n",
       "Name: count, dtype: int64"
      ]
     },
     "execution_count": 18,
     "metadata": {},
     "output_type": "execute_result"
    }
   ],
   "source": [
    "products['trade_class'].value_counts()"
   ]
  },
  {
   "cell_type": "code",
   "execution_count": 19,
   "id": "ec279b03-6d53-4104-8a38-650d2f49ff2c",
   "metadata": {
    "tags": []
   },
   "outputs": [
    {
     "data": {
      "text/html": [
       "<div>\n",
       "<style scoped>\n",
       "    .dataframe tbody tr th:only-of-type {\n",
       "        vertical-align: middle;\n",
       "    }\n",
       "\n",
       "    .dataframe tbody tr th {\n",
       "        vertical-align: top;\n",
       "    }\n",
       "\n",
       "    .dataframe thead th {\n",
       "        text-align: right;\n",
       "    }\n",
       "</style>\n",
       "<table border=\"1\" class=\"dataframe\">\n",
       "  <thead>\n",
       "    <tr style=\"text-align: right;\">\n",
       "      <th></th>\n",
       "      <th>country</th>\n",
       "      <th>state</th>\n",
       "      <th>market</th>\n",
       "      <th>produce</th>\n",
       "      <th>currency</th>\n",
       "      <th>trade_class</th>\n",
       "      <th>quantity</th>\n",
       "    </tr>\n",
       "  </thead>\n",
       "  <tbody>\n",
       "    <tr>\n",
       "      <th>count</th>\n",
       "      <td>956779</td>\n",
       "      <td>956779</td>\n",
       "      <td>956779</td>\n",
       "      <td>956779</td>\n",
       "      <td>956779</td>\n",
       "      <td>956779</td>\n",
       "      <td>956779</td>\n",
       "    </tr>\n",
       "    <tr>\n",
       "      <th>unique</th>\n",
       "      <td>42</td>\n",
       "      <td>312</td>\n",
       "      <td>1696</td>\n",
       "      <td>457</td>\n",
       "      <td>34</td>\n",
       "      <td>3</td>\n",
       "      <td>81</td>\n",
       "    </tr>\n",
       "    <tr>\n",
       "      <th>top</th>\n",
       "      <td>Rwanda</td>\n",
       "      <td>barnawa</td>\n",
       "      <td>Serrekunda</td>\n",
       "      <td>Millet - Retail</td>\n",
       "      <td>XOF</td>\n",
       "      <td>Retail</td>\n",
       "      <td>KG</td>\n",
       "    </tr>\n",
       "    <tr>\n",
       "      <th>freq</th>\n",
       "      <td>137746</td>\n",
       "      <td>126678</td>\n",
       "      <td>4130</td>\n",
       "      <td>47476</td>\n",
       "      <td>227321</td>\n",
       "      <td>885918</td>\n",
       "      <td>712729</td>\n",
       "    </tr>\n",
       "  </tbody>\n",
       "</table>\n",
       "</div>"
      ],
      "text/plain": [
       "       country    state      market          produce currency trade_class  \\\n",
       "count   956779   956779      956779           956779   956779      956779   \n",
       "unique      42      312        1696              457       34           3   \n",
       "top     Rwanda  barnawa  Serrekunda  Millet - Retail      XOF      Retail   \n",
       "freq    137746   126678        4130            47476   227321      885918   \n",
       "\n",
       "       quantity  \n",
       "count    956779  \n",
       "unique       81  \n",
       "top          KG  \n",
       "freq     712729  "
      ]
     },
     "execution_count": 19,
     "metadata": {},
     "output_type": "execute_result"
    }
   ],
   "source": [
    "products.select_dtypes(include=['object']).describe()"
   ]
  },
  {
   "cell_type": "code",
   "execution_count": 20,
   "id": "10909c75-a5d9-4be3-847a-822ba919842b",
   "metadata": {
    "tags": []
   },
   "outputs": [
    {
     "data": {
      "text/html": [
       "<div>\n",
       "<style scoped>\n",
       "    .dataframe tbody tr th:only-of-type {\n",
       "        vertical-align: middle;\n",
       "    }\n",
       "\n",
       "    .dataframe tbody tr th {\n",
       "        vertical-align: top;\n",
       "    }\n",
       "\n",
       "    .dataframe thead th {\n",
       "        text-align: right;\n",
       "    }\n",
       "</style>\n",
       "<table border=\"1\" class=\"dataframe\">\n",
       "  <thead>\n",
       "    <tr style=\"text-align: right;\">\n",
       "      <th></th>\n",
       "      <th>produce_id</th>\n",
       "      <th>amount_swapped</th>\n",
       "      <th>month</th>\n",
       "      <th>year</th>\n",
       "    </tr>\n",
       "  </thead>\n",
       "  <tbody>\n",
       "    <tr>\n",
       "      <th>count</th>\n",
       "      <td>956779.000000</td>\n",
       "      <td>956779.000000</td>\n",
       "      <td>956779.000000</td>\n",
       "      <td>956779.000000</td>\n",
       "    </tr>\n",
       "    <tr>\n",
       "      <th>mean</th>\n",
       "      <td>186.141214</td>\n",
       "      <td>14.017183</td>\n",
       "      <td>6.381471</td>\n",
       "      <td>2015.704015</td>\n",
       "    </tr>\n",
       "    <tr>\n",
       "      <th>std</th>\n",
       "      <td>165.401303</td>\n",
       "      <td>24.437728</td>\n",
       "      <td>3.418025</td>\n",
       "      <td>4.603829</td>\n",
       "    </tr>\n",
       "    <tr>\n",
       "      <th>min</th>\n",
       "      <td>50.000000</td>\n",
       "      <td>5.000000</td>\n",
       "      <td>1.000000</td>\n",
       "      <td>1990.000000</td>\n",
       "    </tr>\n",
       "    <tr>\n",
       "      <th>25%</th>\n",
       "      <td>67.000000</td>\n",
       "      <td>5.000000</td>\n",
       "      <td>3.000000</td>\n",
       "      <td>2013.000000</td>\n",
       "    </tr>\n",
       "    <tr>\n",
       "      <th>50%</th>\n",
       "      <td>105.000000</td>\n",
       "      <td>5.000000</td>\n",
       "      <td>6.000000</td>\n",
       "      <td>2017.000000</td>\n",
       "    </tr>\n",
       "    <tr>\n",
       "      <th>75%</th>\n",
       "      <td>262.000000</td>\n",
       "      <td>9.000000</td>\n",
       "      <td>9.000000</td>\n",
       "      <td>2020.000000</td>\n",
       "    </tr>\n",
       "    <tr>\n",
       "      <th>max</th>\n",
       "      <td>887.000000</td>\n",
       "      <td>175.000000</td>\n",
       "      <td>12.000000</td>\n",
       "      <td>2021.000000</td>\n",
       "    </tr>\n",
       "  </tbody>\n",
       "</table>\n",
       "</div>"
      ],
      "text/plain": [
       "          produce_id  amount_swapped          month           year\n",
       "count  956779.000000   956779.000000  956779.000000  956779.000000\n",
       "mean      186.141214       14.017183       6.381471    2015.704015\n",
       "std       165.401303       24.437728       3.418025       4.603829\n",
       "min        50.000000        5.000000       1.000000    1990.000000\n",
       "25%        67.000000        5.000000       3.000000    2013.000000\n",
       "50%       105.000000        5.000000       6.000000    2017.000000\n",
       "75%       262.000000        9.000000       9.000000    2020.000000\n",
       "max       887.000000      175.000000      12.000000    2021.000000"
      ]
     },
     "execution_count": 20,
     "metadata": {},
     "output_type": "execute_result"
    }
   ],
   "source": [
    "products.select_dtypes(include=['int64']).describe()"
   ]
  },
  {
   "cell_type": "code",
   "execution_count": 21,
   "id": "f5f7548c-2487-49b0-be95-611331f7e90e",
   "metadata": {
    "tags": []
   },
   "outputs": [
    {
     "data": {
      "text/html": [
       "<div>\n",
       "<style scoped>\n",
       "    .dataframe tbody tr th:only-of-type {\n",
       "        vertical-align: middle;\n",
       "    }\n",
       "\n",
       "    .dataframe tbody tr th {\n",
       "        vertical-align: top;\n",
       "    }\n",
       "\n",
       "    .dataframe thead th {\n",
       "        text-align: right;\n",
       "    }\n",
       "</style>\n",
       "<table border=\"1\" class=\"dataframe\">\n",
       "  <thead>\n",
       "    <tr style=\"text-align: right;\">\n",
       "      <th></th>\n",
       "      <th>price</th>\n",
       "    </tr>\n",
       "  </thead>\n",
       "  <tbody>\n",
       "    <tr>\n",
       "      <th>count</th>\n",
       "      <td>9.567790e+05</td>\n",
       "    </tr>\n",
       "    <tr>\n",
       "      <th>mean</th>\n",
       "      <td>4.128833e+03</td>\n",
       "    </tr>\n",
       "    <tr>\n",
       "      <th>std</th>\n",
       "      <td>1.381840e+05</td>\n",
       "    </tr>\n",
       "    <tr>\n",
       "      <th>min</th>\n",
       "      <td>0.000000e+00</td>\n",
       "    </tr>\n",
       "    <tr>\n",
       "      <th>25%</th>\n",
       "      <td>6.500000e+01</td>\n",
       "    </tr>\n",
       "    <tr>\n",
       "      <th>50%</th>\n",
       "      <td>2.505714e+02</td>\n",
       "    </tr>\n",
       "    <tr>\n",
       "      <th>75%</th>\n",
       "      <td>7.221005e+02</td>\n",
       "    </tr>\n",
       "    <tr>\n",
       "      <th>max</th>\n",
       "      <td>1.725000e+07</td>\n",
       "    </tr>\n",
       "  </tbody>\n",
       "</table>\n",
       "</div>"
      ],
      "text/plain": [
       "              price\n",
       "count  9.567790e+05\n",
       "mean   4.128833e+03\n",
       "std    1.381840e+05\n",
       "min    0.000000e+00\n",
       "25%    6.500000e+01\n",
       "50%    2.505714e+02\n",
       "75%    7.221005e+02\n",
       "max    1.725000e+07"
      ]
     },
     "execution_count": 21,
     "metadata": {},
     "output_type": "execute_result"
    }
   ],
   "source": [
    "products.select_dtypes(include=['float64']).describe()"
   ]
  },
  {
   "cell_type": "code",
   "execution_count": 22,
   "id": "978c874d-5781-41a6-acd4-54a22b6aa5e0",
   "metadata": {
    "tags": []
   },
   "outputs": [
    {
     "data": {
      "text/html": [
       "<div>\n",
       "<style scoped>\n",
       "    .dataframe tbody tr th:only-of-type {\n",
       "        vertical-align: middle;\n",
       "    }\n",
       "\n",
       "    .dataframe tbody tr th {\n",
       "        vertical-align: top;\n",
       "    }\n",
       "\n",
       "    .dataframe thead th {\n",
       "        text-align: right;\n",
       "    }\n",
       "</style>\n",
       "<table border=\"1\" class=\"dataframe\">\n",
       "  <thead>\n",
       "    <tr style=\"text-align: right;\">\n",
       "      <th></th>\n",
       "      <th>produce_id</th>\n",
       "      <th>amount_swapped</th>\n",
       "      <th>month</th>\n",
       "      <th>year</th>\n",
       "      <th>price</th>\n",
       "    </tr>\n",
       "  </thead>\n",
       "  <tbody>\n",
       "    <tr>\n",
       "      <th>count</th>\n",
       "      <td>956779.000000</td>\n",
       "      <td>956779.000000</td>\n",
       "      <td>956779.000000</td>\n",
       "      <td>956779.000000</td>\n",
       "      <td>9.567790e+05</td>\n",
       "    </tr>\n",
       "    <tr>\n",
       "      <th>mean</th>\n",
       "      <td>186.141214</td>\n",
       "      <td>14.017183</td>\n",
       "      <td>6.381471</td>\n",
       "      <td>2015.704015</td>\n",
       "      <td>4.128833e+03</td>\n",
       "    </tr>\n",
       "    <tr>\n",
       "      <th>std</th>\n",
       "      <td>165.401303</td>\n",
       "      <td>24.437728</td>\n",
       "      <td>3.418025</td>\n",
       "      <td>4.603829</td>\n",
       "      <td>1.381840e+05</td>\n",
       "    </tr>\n",
       "    <tr>\n",
       "      <th>min</th>\n",
       "      <td>50.000000</td>\n",
       "      <td>5.000000</td>\n",
       "      <td>1.000000</td>\n",
       "      <td>1990.000000</td>\n",
       "      <td>0.000000e+00</td>\n",
       "    </tr>\n",
       "    <tr>\n",
       "      <th>25%</th>\n",
       "      <td>67.000000</td>\n",
       "      <td>5.000000</td>\n",
       "      <td>3.000000</td>\n",
       "      <td>2013.000000</td>\n",
       "      <td>6.500000e+01</td>\n",
       "    </tr>\n",
       "    <tr>\n",
       "      <th>50%</th>\n",
       "      <td>105.000000</td>\n",
       "      <td>5.000000</td>\n",
       "      <td>6.000000</td>\n",
       "      <td>2017.000000</td>\n",
       "      <td>2.505714e+02</td>\n",
       "    </tr>\n",
       "    <tr>\n",
       "      <th>75%</th>\n",
       "      <td>262.000000</td>\n",
       "      <td>9.000000</td>\n",
       "      <td>9.000000</td>\n",
       "      <td>2020.000000</td>\n",
       "      <td>7.221005e+02</td>\n",
       "    </tr>\n",
       "    <tr>\n",
       "      <th>max</th>\n",
       "      <td>887.000000</td>\n",
       "      <td>175.000000</td>\n",
       "      <td>12.000000</td>\n",
       "      <td>2021.000000</td>\n",
       "      <td>1.725000e+07</td>\n",
       "    </tr>\n",
       "  </tbody>\n",
       "</table>\n",
       "</div>"
      ],
      "text/plain": [
       "          produce_id  amount_swapped          month           year  \\\n",
       "count  956779.000000   956779.000000  956779.000000  956779.000000   \n",
       "mean      186.141214       14.017183       6.381471    2015.704015   \n",
       "std       165.401303       24.437728       3.418025       4.603829   \n",
       "min        50.000000        5.000000       1.000000    1990.000000   \n",
       "25%        67.000000        5.000000       3.000000    2013.000000   \n",
       "50%       105.000000        5.000000       6.000000    2017.000000   \n",
       "75%       262.000000        9.000000       9.000000    2020.000000   \n",
       "max       887.000000      175.000000      12.000000    2021.000000   \n",
       "\n",
       "              price  \n",
       "count  9.567790e+05  \n",
       "mean   4.128833e+03  \n",
       "std    1.381840e+05  \n",
       "min    0.000000e+00  \n",
       "25%    6.500000e+01  \n",
       "50%    2.505714e+02  \n",
       "75%    7.221005e+02  \n",
       "max    1.725000e+07  "
      ]
     },
     "execution_count": 22,
     "metadata": {},
     "output_type": "execute_result"
    }
   ],
   "source": [
    "# describing the statistics\n",
    "products.describe()"
   ]
  },
  {
   "cell_type": "code",
   "execution_count": 23,
   "id": "58a2ea83-5b39-4a95-aff0-3759ee59300f",
   "metadata": {
    "tags": []
   },
   "outputs": [
    {
     "data": {
      "text/plain": [
       "country\n",
       "Rwanda                      137746\n",
       "Mali                         73843\n",
       "Burundi                      60921\n",
       "Gambia                       56971\n",
       "Niger                        54974\n",
       "Nigeria                      50285\n",
       "Zambia                       42793\n",
       "Mozambique                   42278\n",
       "Libya                        41207\n",
       "Benin                        39530\n",
       "Senegal                      33563\n",
       "Ghana                        25414\n",
       "Ethiopia                     24627\n",
       "Malawi                       22682\n",
       "Cameroon                     22476\n",
       "Guinea-Bissau                19796\n",
       "Chad                         18896\n",
       "Somalia                      18444\n",
       "South Sudan                  17746\n",
       "Central African Republic     12720\n",
       "Liberia                      12302\n",
       "Guinea                       11810\n",
       "Sierra Leone                 11645\n",
       "Zimbabwe                     10957\n",
       "Mauritania                   10871\n",
       "Sudan                         9890\n",
       "Lesotho                       9364\n",
       "Madagascar                    9193\n",
       "Kenya                         8884\n",
       "Uganda                        7781\n",
       "Namibia                       7163\n",
       "Djibouti                      6006\n",
       "Togo                          5615\n",
       "Congo                         5257\n",
       "Swaziland                     4247\n",
       "Egypt                         2304\n",
       "Cape Verde                    2135\n",
       "Algeria                       1793\n",
       "Angola                        1272\n",
       "South Africa                   774\n",
       "Gabon                          504\n",
       "Eritrea                        100\n",
       "Name: count, dtype: int64"
      ]
     },
     "execution_count": 23,
     "metadata": {},
     "output_type": "execute_result"
    }
   ],
   "source": [
    "products.value_counts('country')"
   ]
  },
  {
   "cell_type": "code",
   "execution_count": 24,
   "id": "12a273f6-e69b-448e-bc1f-46a4da2d4b4b",
   "metadata": {
    "tags": []
   },
   "outputs": [
    {
     "data": {
      "text/html": [
       "<div>\n",
       "<style scoped>\n",
       "    .dataframe tbody tr th:only-of-type {\n",
       "        vertical-align: middle;\n",
       "    }\n",
       "\n",
       "    .dataframe tbody tr th {\n",
       "        vertical-align: top;\n",
       "    }\n",
       "\n",
       "    .dataframe thead th {\n",
       "        text-align: right;\n",
       "    }\n",
       "</style>\n",
       "<table border=\"1\" class=\"dataframe\">\n",
       "  <thead>\n",
       "    <tr style=\"text-align: right;\">\n",
       "      <th></th>\n",
       "      <th>country</th>\n",
       "      <th>state</th>\n",
       "      <th>market</th>\n",
       "      <th>produce_id</th>\n",
       "      <th>produce</th>\n",
       "      <th>currency</th>\n",
       "      <th>trade_class</th>\n",
       "      <th>amount_swapped</th>\n",
       "      <th>quantity</th>\n",
       "      <th>month</th>\n",
       "      <th>year</th>\n",
       "      <th>price</th>\n",
       "    </tr>\n",
       "  </thead>\n",
       "  <tbody>\n",
       "    <tr>\n",
       "      <th>count</th>\n",
       "      <td>956779</td>\n",
       "      <td>956779</td>\n",
       "      <td>956779</td>\n",
       "      <td>956779.000000</td>\n",
       "      <td>956779</td>\n",
       "      <td>956779</td>\n",
       "      <td>956779</td>\n",
       "      <td>956779.000000</td>\n",
       "      <td>956779</td>\n",
       "      <td>956779.000000</td>\n",
       "      <td>956779.000000</td>\n",
       "      <td>9.567790e+05</td>\n",
       "    </tr>\n",
       "    <tr>\n",
       "      <th>unique</th>\n",
       "      <td>42</td>\n",
       "      <td>312</td>\n",
       "      <td>1696</td>\n",
       "      <td>NaN</td>\n",
       "      <td>457</td>\n",
       "      <td>34</td>\n",
       "      <td>3</td>\n",
       "      <td>NaN</td>\n",
       "      <td>81</td>\n",
       "      <td>NaN</td>\n",
       "      <td>NaN</td>\n",
       "      <td>NaN</td>\n",
       "    </tr>\n",
       "    <tr>\n",
       "      <th>top</th>\n",
       "      <td>Rwanda</td>\n",
       "      <td>barnawa</td>\n",
       "      <td>Serrekunda</td>\n",
       "      <td>NaN</td>\n",
       "      <td>Millet - Retail</td>\n",
       "      <td>XOF</td>\n",
       "      <td>Retail</td>\n",
       "      <td>NaN</td>\n",
       "      <td>KG</td>\n",
       "      <td>NaN</td>\n",
       "      <td>NaN</td>\n",
       "      <td>NaN</td>\n",
       "    </tr>\n",
       "    <tr>\n",
       "      <th>freq</th>\n",
       "      <td>137746</td>\n",
       "      <td>126678</td>\n",
       "      <td>4130</td>\n",
       "      <td>NaN</td>\n",
       "      <td>47476</td>\n",
       "      <td>227321</td>\n",
       "      <td>885918</td>\n",
       "      <td>NaN</td>\n",
       "      <td>712729</td>\n",
       "      <td>NaN</td>\n",
       "      <td>NaN</td>\n",
       "      <td>NaN</td>\n",
       "    </tr>\n",
       "    <tr>\n",
       "      <th>mean</th>\n",
       "      <td>NaN</td>\n",
       "      <td>NaN</td>\n",
       "      <td>NaN</td>\n",
       "      <td>186.141214</td>\n",
       "      <td>NaN</td>\n",
       "      <td>NaN</td>\n",
       "      <td>NaN</td>\n",
       "      <td>14.017183</td>\n",
       "      <td>NaN</td>\n",
       "      <td>6.381471</td>\n",
       "      <td>2015.704015</td>\n",
       "      <td>4.128833e+03</td>\n",
       "    </tr>\n",
       "    <tr>\n",
       "      <th>std</th>\n",
       "      <td>NaN</td>\n",
       "      <td>NaN</td>\n",
       "      <td>NaN</td>\n",
       "      <td>165.401303</td>\n",
       "      <td>NaN</td>\n",
       "      <td>NaN</td>\n",
       "      <td>NaN</td>\n",
       "      <td>24.437728</td>\n",
       "      <td>NaN</td>\n",
       "      <td>3.418025</td>\n",
       "      <td>4.603829</td>\n",
       "      <td>1.381840e+05</td>\n",
       "    </tr>\n",
       "    <tr>\n",
       "      <th>min</th>\n",
       "      <td>NaN</td>\n",
       "      <td>NaN</td>\n",
       "      <td>NaN</td>\n",
       "      <td>50.000000</td>\n",
       "      <td>NaN</td>\n",
       "      <td>NaN</td>\n",
       "      <td>NaN</td>\n",
       "      <td>5.000000</td>\n",
       "      <td>NaN</td>\n",
       "      <td>1.000000</td>\n",
       "      <td>1990.000000</td>\n",
       "      <td>0.000000e+00</td>\n",
       "    </tr>\n",
       "    <tr>\n",
       "      <th>25%</th>\n",
       "      <td>NaN</td>\n",
       "      <td>NaN</td>\n",
       "      <td>NaN</td>\n",
       "      <td>67.000000</td>\n",
       "      <td>NaN</td>\n",
       "      <td>NaN</td>\n",
       "      <td>NaN</td>\n",
       "      <td>5.000000</td>\n",
       "      <td>NaN</td>\n",
       "      <td>3.000000</td>\n",
       "      <td>2013.000000</td>\n",
       "      <td>6.500000e+01</td>\n",
       "    </tr>\n",
       "    <tr>\n",
       "      <th>50%</th>\n",
       "      <td>NaN</td>\n",
       "      <td>NaN</td>\n",
       "      <td>NaN</td>\n",
       "      <td>105.000000</td>\n",
       "      <td>NaN</td>\n",
       "      <td>NaN</td>\n",
       "      <td>NaN</td>\n",
       "      <td>5.000000</td>\n",
       "      <td>NaN</td>\n",
       "      <td>6.000000</td>\n",
       "      <td>2017.000000</td>\n",
       "      <td>2.505714e+02</td>\n",
       "    </tr>\n",
       "    <tr>\n",
       "      <th>75%</th>\n",
       "      <td>NaN</td>\n",
       "      <td>NaN</td>\n",
       "      <td>NaN</td>\n",
       "      <td>262.000000</td>\n",
       "      <td>NaN</td>\n",
       "      <td>NaN</td>\n",
       "      <td>NaN</td>\n",
       "      <td>9.000000</td>\n",
       "      <td>NaN</td>\n",
       "      <td>9.000000</td>\n",
       "      <td>2020.000000</td>\n",
       "      <td>7.221005e+02</td>\n",
       "    </tr>\n",
       "    <tr>\n",
       "      <th>max</th>\n",
       "      <td>NaN</td>\n",
       "      <td>NaN</td>\n",
       "      <td>NaN</td>\n",
       "      <td>887.000000</td>\n",
       "      <td>NaN</td>\n",
       "      <td>NaN</td>\n",
       "      <td>NaN</td>\n",
       "      <td>175.000000</td>\n",
       "      <td>NaN</td>\n",
       "      <td>12.000000</td>\n",
       "      <td>2021.000000</td>\n",
       "      <td>1.725000e+07</td>\n",
       "    </tr>\n",
       "  </tbody>\n",
       "</table>\n",
       "</div>"
      ],
      "text/plain": [
       "       country    state      market     produce_id          produce currency  \\\n",
       "count   956779   956779      956779  956779.000000           956779   956779   \n",
       "unique      42      312        1696            NaN              457       34   \n",
       "top     Rwanda  barnawa  Serrekunda            NaN  Millet - Retail      XOF   \n",
       "freq    137746   126678        4130            NaN            47476   227321   \n",
       "mean       NaN      NaN         NaN     186.141214              NaN      NaN   \n",
       "std        NaN      NaN         NaN     165.401303              NaN      NaN   \n",
       "min        NaN      NaN         NaN      50.000000              NaN      NaN   \n",
       "25%        NaN      NaN         NaN      67.000000              NaN      NaN   \n",
       "50%        NaN      NaN         NaN     105.000000              NaN      NaN   \n",
       "75%        NaN      NaN         NaN     262.000000              NaN      NaN   \n",
       "max        NaN      NaN         NaN     887.000000              NaN      NaN   \n",
       "\n",
       "       trade_class  amount_swapped quantity          month           year  \\\n",
       "count       956779   956779.000000   956779  956779.000000  956779.000000   \n",
       "unique           3             NaN       81            NaN            NaN   \n",
       "top         Retail             NaN       KG            NaN            NaN   \n",
       "freq        885918             NaN   712729            NaN            NaN   \n",
       "mean           NaN       14.017183      NaN       6.381471    2015.704015   \n",
       "std            NaN       24.437728      NaN       3.418025       4.603829   \n",
       "min            NaN        5.000000      NaN       1.000000    1990.000000   \n",
       "25%            NaN        5.000000      NaN       3.000000    2013.000000   \n",
       "50%            NaN        5.000000      NaN       6.000000    2017.000000   \n",
       "75%            NaN        9.000000      NaN       9.000000    2020.000000   \n",
       "max            NaN      175.000000      NaN      12.000000    2021.000000   \n",
       "\n",
       "               price  \n",
       "count   9.567790e+05  \n",
       "unique           NaN  \n",
       "top              NaN  \n",
       "freq             NaN  \n",
       "mean    4.128833e+03  \n",
       "std     1.381840e+05  \n",
       "min     0.000000e+00  \n",
       "25%     6.500000e+01  \n",
       "50%     2.505714e+02  \n",
       "75%     7.221005e+02  \n",
       "max     1.725000e+07  "
      ]
     },
     "execution_count": 24,
     "metadata": {},
     "output_type": "execute_result"
    }
   ],
   "source": [
    "products.describe(include='all')"
   ]
  },
  {
   "cell_type": "code",
   "execution_count": 25,
   "id": "5466247d-fc56-4653-ae2e-e7a1a6108e5b",
   "metadata": {
    "tags": []
   },
   "outputs": [
    {
     "data": {
      "text/plain": [
       "array(['Alger', 'Tindouf', 'Luanda', 'Lunda Norte', 'Alibori', 'Atakora',\n",
       "       'Atlantique', 'Borgou', 'Collines', 'Couffo', 'Donga', 'Littoral',\n",
       "       'Mono', 'Oueme', 'Plateau', 'Zou', 'Bubanza', 'Bujumbura Mairie',\n",
       "       'Bujumbura Rural', 'Bururi', 'Cankuzo', 'Cibitoke', 'Gitega',\n",
       "       'Karuzi', 'Kayanza', 'Kirundo', 'Makamba', 'Muramvya', 'Muyinga',\n",
       "       'Mwaro', 'Ngozi', 'Rutana', 'Ruyigi', 'Adamaoua', 'Centre', 'Est',\n",
       "       'Extreme - Nord', 'Nord', 'Nord - Ouest', 'Ouest', 'Sud - Ouest',\n",
       "       'Santiago', 'Santo Antao', 'Sao Vicente', 'Bamingui-Bangoran',\n",
       "       'Haut-Mbomou', 'Haute-Kotto', 'Kémo', 'Lobaye', 'Mambéré-Kadéï',\n",
       "       'Mbomou', 'Nana-Gribizi', 'Nana-Mambéré', \"Ombella M'Poko\",\n",
       "       'Ouaka', 'Ouham', 'Ouham Pendé', 'Sangha-Mbaéré', 'Vakaga',\n",
       "       'Bangui', 'barnawa', 'Bouenza', 'Cuvette', 'Lekoumou', 'Likouala',\n",
       "       'Pool', 'Point-Noire', 'Brazzaville', 'Ali Sabieh', 'Dikhil',\n",
       "       'Djibouti', 'Obock', 'Tadjourah', 'Maekel', 'Semenawi Keih Bahri',\n",
       "       'Addis Ababa', 'Afar', 'Amhara', 'Beneshangul Gumu', 'Dire Dawa',\n",
       "       'Gambela', 'Hareri', 'SNNPR', 'Tigray', 'Oromia', 'Somali',\n",
       "       'Estuaire', 'Central River', 'Lower River', 'North Bank',\n",
       "       'Upper River', 'West Coast', 'Kanifing Municipal Council',\n",
       "       'Ashanti', 'Brong Ahafo', 'Central', 'Eastern', 'Greater Accra',\n",
       "       'Northern', 'Upper East', 'Upper West', 'Volta', 'Western', 'Boke',\n",
       "       'Conakry', 'Faranah', 'Kankan', 'Kindia', 'Labe', 'Mamou',\n",
       "       'Nzerekore', 'Bafata', 'Biombo', 'Bolama', 'Cacheu', 'Gabu', 'Oio',\n",
       "       'Quinara', 'Sector Autonomo De Bissau', 'Tombali', 'Coast',\n",
       "       'Nairobi', 'North Eastern', 'Nyanza', 'Rift Valley', 'Berea',\n",
       "       'Butha Buthe', 'Leribe', 'Mafeteng', 'Maseru', \"Mohale's Hoek\",\n",
       "       'Mokhotlong', \"Qacha's Nek\", 'Quthing', 'Thaba Tseka', 'Bomi',\n",
       "       'Bong', 'Gbarpolu', 'Grand Bassa', 'Grand Cape Mount',\n",
       "       'Grand Gedeh', 'Grand Kru', 'Lofa', 'Margibi', 'Maryland',\n",
       "       'Montserrado', 'Nimba', 'Rivercess', 'River Gee', 'Sinoe',\n",
       "       'Atsinanana', 'Toliara', 'Vatovavy Fitovinany', 'Vakinankaratra',\n",
       "       'Sofia', 'Menabe', 'Melaky', 'Ihorombe', 'Haute Matsiatra',\n",
       "       'Diana', 'Boeny', 'Betsiboka', 'Atsimo Atsinanana',\n",
       "       'Atsimo Andrefana', 'Anosy', 'Androy', 'Analanjirofo',\n",
       "       'Analamanga', 'Amoron I Mania', 'Alaotra Mangoro',\n",
       "       'Central Region', 'Northern Region', 'Southern Region', 'Bamako',\n",
       "       'Koulikoro', 'Gao', 'Kayes', 'Kidal', 'Mopti', 'Segou', 'Sikasso',\n",
       "       'Tombouctou', 'Adrar', 'Assaba', 'Brakna', 'Dakhlet-Nouadhibou',\n",
       "       'Gorgol', 'Guidimakha', 'Hodh Ech Chargi', 'Hodh El Gharbi',\n",
       "       'Nouakchott', 'Tagant', 'Tiris-Zemmour', 'Trarza', 'Caprivi',\n",
       "       'Erongo', 'Hardap', 'Karas', 'Khomas', 'Omaheke', 'Oshana',\n",
       "       'Otjozondjupa', 'Agadez', 'Diffa', 'Dosso', 'Maradi', 'Niamey',\n",
       "       'Tahoua', 'Tillaberi', 'Zinder', 'Adamawa', 'Borno', 'Jigawa',\n",
       "       'Kaduna', 'Kano', 'Katsina', 'Kebbi', 'Lagos', 'Oyo', 'Yobe',\n",
       "       'Abia', 'Gombe', 'Sokoto', 'Zamfara',\n",
       "       'Kigali City/Umujyi wa Kigali', 'East/Iburasirazuba',\n",
       "       'North/Amajyaruguru', 'South/Amajyepfo', 'West/Iburengerazuba',\n",
       "       'Kedougou', 'Sedhiou', 'Kaffrine', 'Dakar', 'Kaolack', 'Kolda',\n",
       "       'Tambacounda', 'Thies', 'Ziguinchor', 'Diourbel', 'Fatick',\n",
       "       'Louga', 'Matam', 'Saint louis', 'Southern', 'Western Area',\n",
       "       'Awdal', 'Bakool', 'Bari', 'Bay', 'Banadir', 'Galgaduud', 'Gedo',\n",
       "       'Hiraan', 'Juba Hoose', 'Shabelle Hoose', 'Juba Dhexe',\n",
       "       'Shabelle Dhexe', 'Mudug', 'Nugaal', 'Sanaag', 'Sool', 'Togdheer',\n",
       "       'Woqooyi Galbeed', 'Gauteng', 'Blue Nile', 'Kassala', 'Khartoum',\n",
       "       'North Kordofan', 'North Darfur', 'Gedaref', 'South Kordofan',\n",
       "       'South Darfur', 'West Kordofan', 'West Darfur', 'White Nile',\n",
       "       'Red Sea', 'Kara', 'Maritime', 'Plateaux', 'Savanes', 'Abim',\n",
       "       'Amudat', 'Kween', 'Kyankwanzi', 'Busia', 'Gulu', 'Jinja',\n",
       "       'Kabale', 'Iganga', 'Kampala', 'Masindi', 'Nakapiripirit',\n",
       "       'Soroti', 'Kaabong', 'Kotido', 'Lira', 'Mbale', 'Mbarara',\n",
       "       'Copperbelt', 'Luapula', 'Lusaka', 'North-Western', 'Bulawayo',\n",
       "       'Harare', 'Manicaland', 'Mashonaland Central', 'Mashonaland East',\n",
       "       'Mashonaland West', 'Masvingo', 'Matabeleland North',\n",
       "       'Matabeleland South', 'Midlands'], dtype=object)"
      ]
     },
     "execution_count": 25,
     "metadata": {},
     "output_type": "execute_result"
    }
   ],
   "source": [
    "products.state.unique()"
   ]
  },
  {
   "cell_type": "code",
   "execution_count": 26,
   "id": "2193d56d-898b-4619-86f7-9f55468efbf7",
   "metadata": {
    "tags": []
   },
   "outputs": [
    {
     "data": {
      "text/plain": [
       "array(['Algeria', 'Angola', 'Benin', 'Burundi', 'Cameroon', 'Cape Verde',\n",
       "       'Central African Republic', 'Chad', 'Congo', 'Djibouti', 'Egypt',\n",
       "       'Eritrea', 'Ethiopia', 'Gabon', 'Gambia', 'Ghana', 'Guinea',\n",
       "       'Guinea-Bissau', 'Kenya', 'Lesotho', 'Liberia', 'Libya',\n",
       "       'Madagascar', 'Malawi', 'Mali', 'Mauritania', 'Mozambique',\n",
       "       'Namibia', 'Niger', 'Nigeria', 'Rwanda', 'Senegal', 'Sierra Leone',\n",
       "       'Somalia', 'South Africa', 'South Sudan', 'Sudan', 'Swaziland',\n",
       "       'Togo', 'Uganda', 'Zambia', 'Zimbabwe'], dtype=object)"
      ]
     },
     "execution_count": 26,
     "metadata": {},
     "output_type": "execute_result"
    }
   ],
   "source": [
    "products.country.unique()"
   ]
  },
  {
   "cell_type": "code",
   "execution_count": 27,
   "id": "006c5a6f-86f2-41d5-bccb-cbc725a244af",
   "metadata": {
    "tags": []
   },
   "outputs": [
    {
     "data": {
      "text/plain": [
       "state\n",
       "barnawa                126678\n",
       "North/Amajyaruguru      34770\n",
       "South/Amajyepfo         31610\n",
       "East/Iburasirazuba      30805\n",
       "West/Iburengerazuba     30032\n",
       "                        ...  \n",
       "Tiris-Zemmour              29\n",
       "Toliara                    24\n",
       "Kabale                     24\n",
       "Lunda Norte                24\n",
       "Semenawi Keih Bahri        18\n",
       "Name: count, Length: 312, dtype: int64"
      ]
     },
     "execution_count": 27,
     "metadata": {},
     "output_type": "execute_result"
    }
   ],
   "source": [
    "products.state.value_counts()"
   ]
  },
  {
   "cell_type": "code",
   "execution_count": 28,
   "id": "96342550-98e2-4092-9be5-d6bef09fa461",
   "metadata": {
    "tags": []
   },
   "outputs": [
    {
     "data": {
      "text/plain": [
       "312"
      ]
     },
     "execution_count": 28,
     "metadata": {},
     "output_type": "execute_result"
    }
   ],
   "source": [
    "products.state.nunique()"
   ]
  },
  {
   "cell_type": "code",
   "execution_count": 29,
   "id": "adb1ea85-f0d8-41e9-b801-6e83710441e7",
   "metadata": {
    "tags": []
   },
   "outputs": [
    {
     "data": {
      "text/plain": [
       "Index(['country', 'state', 'market', 'produce_id', 'produce', 'currency',\n",
       "       'trade_class', 'amount_swapped', 'quantity', 'month', 'year', 'price'],\n",
       "      dtype='object')"
      ]
     },
     "execution_count": 29,
     "metadata": {},
     "output_type": "execute_result"
    }
   ],
   "source": [
    "products.columns"
   ]
  },
  {
   "cell_type": "markdown",
   "id": "87b5e312-2276-4f60-a315-1ece113302e4",
   "metadata": {},
   "source": [
    "df.value_counts('product')"
   ]
  },
  {
   "cell_type": "code",
   "execution_count": 30,
   "id": "a1565809-1b54-4293-b23b-4ba0bcb51339",
   "metadata": {
    "tags": []
   },
   "outputs": [
    {
     "data": {
      "text/plain": [
       "amount_swapped\n",
       "5      712729\n",
       "15      50627\n",
       "9       33094\n",
       "33      25713\n",
       "17      13261\n",
       "        ...  \n",
       "102        24\n",
       "171        17\n",
       "111        16\n",
       "45          8\n",
       "57          6\n",
       "Name: count, Length: 81, dtype: int64"
      ]
     },
     "execution_count": 30,
     "metadata": {},
     "output_type": "execute_result"
    }
   ],
   "source": [
    "products.amount_swapped.value_counts()"
   ]
  },
  {
   "cell_type": "code",
   "execution_count": 31,
   "id": "c5bc9a24-9e9c-43f4-b93c-9d714fe448cd",
   "metadata": {
    "tags": []
   },
   "outputs": [
    {
     "data": {
      "text/plain": [
       "produce\n",
       "Millet - Retail                     47476\n",
       "Rice (imported) - Retail            47022\n",
       "Sorghum - Retail                    44679\n",
       "Maize - Retail                      43073\n",
       "Maize (white) - Retail              33786\n",
       "                                    ...  \n",
       "Millet (white) - Wholesale              1\n",
       "Potatoes (unica) - Retail               1\n",
       "Kocho - Retail                          1\n",
       "Beans (haricot, red) - Wholesale        1\n",
       "Sorghum (biofortified) - Retail         1\n",
       "Name: count, Length: 457, dtype: int64"
      ]
     },
     "execution_count": 31,
     "metadata": {},
     "output_type": "execute_result"
    }
   ],
   "source": [
    "products['produce'].value_counts()"
   ]
  },
  {
   "cell_type": "markdown",
   "id": "27319150-76f8-4530-8cc2-4d908c9cf723",
   "metadata": {
    "tags": []
   },
   "source": [
    "## GRAPHICAL EXPLORATION"
   ]
  },
  {
   "cell_type": "code",
   "execution_count": 32,
   "id": "69462873-c4ea-4d9b-aee8-657e12a3adfe",
   "metadata": {},
   "outputs": [
    {
     "data": {
      "image/png": "[encoded data removed]",
      "text/plain": [
       "<Figure size 1400x400 with 1 Axes>"
      ]
     },
     "metadata": {},
     "output_type": "display_data"
    },
    {
     "data": {
      "image/png": "[encoded data removed]",
      "text/plain": [
       "<Figure size 1400x400 with 1 Axes>"
      ]
     },
     "metadata": {},
     "output_type": "display_data"
    },
    {
     "data": {
      "image/png": "[encoded data removed]",
      "text/plain": [
       "<Figure size 1400x400 with 1 Axes>"
      ]
     },
     "metadata": {},
     "output_type": "display_data"
    },
    {
     "data": {
      "image/png": "[encoded data removed]",
      "text/plain": [
       "<Figure size 1400x400 with 1 Axes>"
      ]
     },
     "metadata": {},
     "output_type": "display_data"
    }
   ],
   "source": [
    "for col in products.select_dtypes(include='object').columns:\n",
    "    if col not in ['state','market','produce']:\n",
    "        plt.figure(figsize=(14,4))\n",
    "        sns.countplot(data=products, x=col)\n",
    "        plt.show()"
   ]
  },
  {
   "cell_type": "code",
   "execution_count": 33,
   "id": "331b97c7-6bcd-48b2-88e0-4945411b8f7f",
   "metadata": {
    "tags": []
   },
   "outputs": [
    {
     "data": {
      "text/plain": [
       "produce\n",
       "Millet - Retail                     47476\n",
       "Rice (imported) - Retail            47022\n",
       "Sorghum - Retail                    44679\n",
       "Maize - Retail                      43073\n",
       "Maize (white) - Retail              33786\n",
       "                                    ...  \n",
       "Millet (white) - Wholesale              1\n",
       "Potatoes (unica) - Retail               1\n",
       "Kocho - Retail                          1\n",
       "Beans (haricot, red) - Wholesale        1\n",
       "Sorghum (biofortified) - Retail         1\n",
       "Name: count, Length: 457, dtype: int64"
      ]
     },
     "execution_count": 33,
     "metadata": {},
     "output_type": "execute_result"
    }
   ],
   "source": [
    "products['produce'].value_counts()"
   ]
  },
  {
   "cell_type": "code",
   "execution_count": 34,
   "id": "2076f3c5-b224-482e-96a3-a80447bcc335",
   "metadata": {
    "tags": []
   },
   "outputs": [
    {
     "data": {
      "text/plain": [
       "trade_class\n",
       "Retail       885918\n",
       "Wholesale     70613\n",
       "Producer        248\n",
       "Name: count, dtype: int64"
      ]
     },
     "execution_count": 34,
     "metadata": {},
     "output_type": "execute_result"
    }
   ],
   "source": [
    "products['trade_class'].value_counts()"
   ]
  },
  {
   "cell_type": "markdown",
   "id": "02620332-82dd-4154-9728-32742cec3f5d",
   "metadata": {
    "tags": []
   },
   "source": [
    "## PANDAS GROUPHY"
   ]
  },
  {
   "cell_type": "code",
   "execution_count": 35,
   "id": "9f873ad5-e9fc-4b4b-84f3-843735b5be7f",
   "metadata": {
    "tags": []
   },
   "outputs": [],
   "source": [
    "ws_group = products.groupby('trade_class').get_group('Wholesale')"
   ]
  },
  {
   "cell_type": "code",
   "execution_count": 36,
   "id": "20d25a59-f25b-4fea-9ef6-27fc62a1871d",
   "metadata": {
    "tags": []
   },
   "outputs": [
    {
     "data": {
      "text/html": [
       "<div>\n",
       "<style scoped>\n",
       "    .dataframe tbody tr th:only-of-type {\n",
       "        vertical-align: middle;\n",
       "    }\n",
       "\n",
       "    .dataframe tbody tr th {\n",
       "        vertical-align: top;\n",
       "    }\n",
       "\n",
       "    .dataframe thead th {\n",
       "        text-align: right;\n",
       "    }\n",
       "</style>\n",
       "<table border=\"1\" class=\"dataframe\">\n",
       "  <thead>\n",
       "    <tr style=\"text-align: right;\">\n",
       "      <th></th>\n",
       "      <th>country</th>\n",
       "      <th>state</th>\n",
       "      <th>market</th>\n",
       "      <th>produce_id</th>\n",
       "      <th>produce</th>\n",
       "      <th>currency</th>\n",
       "      <th>trade_class</th>\n",
       "      <th>amount_swapped</th>\n",
       "      <th>quantity</th>\n",
       "      <th>month</th>\n",
       "      <th>year</th>\n",
       "      <th>price</th>\n",
       "    </tr>\n",
       "  </thead>\n",
       "  <tbody>\n",
       "    <tr>\n",
       "      <th>3065</th>\n",
       "      <td>Benin</td>\n",
       "      <td>Alibori</td>\n",
       "      <td>Malanville (CBM)</td>\n",
       "      <td>51</td>\n",
       "      <td>Maize - Wholesale</td>\n",
       "      <td>XOF</td>\n",
       "      <td>Wholesale</td>\n",
       "      <td>5</td>\n",
       "      <td>KG</td>\n",
       "      <td>1</td>\n",
       "      <td>2002</td>\n",
       "      <td>145.00</td>\n",
       "    </tr>\n",
       "    <tr>\n",
       "      <th>3066</th>\n",
       "      <td>Benin</td>\n",
       "      <td>Alibori</td>\n",
       "      <td>Malanville (CBM)</td>\n",
       "      <td>51</td>\n",
       "      <td>Maize - Wholesale</td>\n",
       "      <td>XOF</td>\n",
       "      <td>Wholesale</td>\n",
       "      <td>5</td>\n",
       "      <td>KG</td>\n",
       "      <td>1</td>\n",
       "      <td>2003</td>\n",
       "      <td>106.00</td>\n",
       "    </tr>\n",
       "    <tr>\n",
       "      <th>3067</th>\n",
       "      <td>Benin</td>\n",
       "      <td>Alibori</td>\n",
       "      <td>Malanville (CBM)</td>\n",
       "      <td>51</td>\n",
       "      <td>Maize - Wholesale</td>\n",
       "      <td>XOF</td>\n",
       "      <td>Wholesale</td>\n",
       "      <td>5</td>\n",
       "      <td>KG</td>\n",
       "      <td>2</td>\n",
       "      <td>2003</td>\n",
       "      <td>107.50</td>\n",
       "    </tr>\n",
       "    <tr>\n",
       "      <th>3068</th>\n",
       "      <td>Benin</td>\n",
       "      <td>Alibori</td>\n",
       "      <td>Malanville (CBM)</td>\n",
       "      <td>51</td>\n",
       "      <td>Maize - Wholesale</td>\n",
       "      <td>XOF</td>\n",
       "      <td>Wholesale</td>\n",
       "      <td>5</td>\n",
       "      <td>KG</td>\n",
       "      <td>3</td>\n",
       "      <td>2003</td>\n",
       "      <td>95.00</td>\n",
       "    </tr>\n",
       "    <tr>\n",
       "      <th>3069</th>\n",
       "      <td>Benin</td>\n",
       "      <td>Alibori</td>\n",
       "      <td>Malanville (CBM)</td>\n",
       "      <td>51</td>\n",
       "      <td>Maize - Wholesale</td>\n",
       "      <td>XOF</td>\n",
       "      <td>Wholesale</td>\n",
       "      <td>5</td>\n",
       "      <td>KG</td>\n",
       "      <td>4</td>\n",
       "      <td>2003</td>\n",
       "      <td>95.00</td>\n",
       "    </tr>\n",
       "    <tr>\n",
       "      <th>...</th>\n",
       "      <td>...</td>\n",
       "      <td>...</td>\n",
       "      <td>...</td>\n",
       "      <td>...</td>\n",
       "      <td>...</td>\n",
       "      <td>...</td>\n",
       "      <td>...</td>\n",
       "      <td>...</td>\n",
       "      <td>...</td>\n",
       "      <td>...</td>\n",
       "      <td>...</td>\n",
       "      <td>...</td>\n",
       "    </tr>\n",
       "    <tr>\n",
       "      <th>902012</th>\n",
       "      <td>Uganda</td>\n",
       "      <td>Lira</td>\n",
       "      <td>Lira</td>\n",
       "      <td>147</td>\n",
       "      <td>Plantains - Wholesale</td>\n",
       "      <td>UGX</td>\n",
       "      <td>Wholesale</td>\n",
       "      <td>5</td>\n",
       "      <td>KG</td>\n",
       "      <td>7</td>\n",
       "      <td>2018</td>\n",
       "      <td>1062.50</td>\n",
       "    </tr>\n",
       "    <tr>\n",
       "      <th>902013</th>\n",
       "      <td>Uganda</td>\n",
       "      <td>Lira</td>\n",
       "      <td>Lira</td>\n",
       "      <td>147</td>\n",
       "      <td>Plantains - Wholesale</td>\n",
       "      <td>UGX</td>\n",
       "      <td>Wholesale</td>\n",
       "      <td>5</td>\n",
       "      <td>KG</td>\n",
       "      <td>8</td>\n",
       "      <td>2018</td>\n",
       "      <td>910.00</td>\n",
       "    </tr>\n",
       "    <tr>\n",
       "      <th>902014</th>\n",
       "      <td>Uganda</td>\n",
       "      <td>Lira</td>\n",
       "      <td>Lira</td>\n",
       "      <td>147</td>\n",
       "      <td>Plantains - Wholesale</td>\n",
       "      <td>UGX</td>\n",
       "      <td>Wholesale</td>\n",
       "      <td>5</td>\n",
       "      <td>KG</td>\n",
       "      <td>9</td>\n",
       "      <td>2018</td>\n",
       "      <td>900.00</td>\n",
       "    </tr>\n",
       "    <tr>\n",
       "      <th>902015</th>\n",
       "      <td>Uganda</td>\n",
       "      <td>Lira</td>\n",
       "      <td>Lira</td>\n",
       "      <td>147</td>\n",
       "      <td>Plantains - Wholesale</td>\n",
       "      <td>UGX</td>\n",
       "      <td>Wholesale</td>\n",
       "      <td>5</td>\n",
       "      <td>KG</td>\n",
       "      <td>10</td>\n",
       "      <td>2018</td>\n",
       "      <td>983.33</td>\n",
       "    </tr>\n",
       "    <tr>\n",
       "      <th>902016</th>\n",
       "      <td>Uganda</td>\n",
       "      <td>Lira</td>\n",
       "      <td>Lira</td>\n",
       "      <td>147</td>\n",
       "      <td>Plantains - Wholesale</td>\n",
       "      <td>UGX</td>\n",
       "      <td>Wholesale</td>\n",
       "      <td>5</td>\n",
       "      <td>KG</td>\n",
       "      <td>11</td>\n",
       "      <td>2018</td>\n",
       "      <td>1000.00</td>\n",
       "    </tr>\n",
       "  </tbody>\n",
       "</table>\n",
       "<p>70613 rows × 12 columns</p>\n",
       "</div>"
      ],
      "text/plain": [
       "       country    state            market  produce_id                produce  \\\n",
       "3065     Benin  Alibori  Malanville (CBM)          51      Maize - Wholesale   \n",
       "3066     Benin  Alibori  Malanville (CBM)          51      Maize - Wholesale   \n",
       "3067     Benin  Alibori  Malanville (CBM)          51      Maize - Wholesale   \n",
       "3068     Benin  Alibori  Malanville (CBM)          51      Maize - Wholesale   \n",
       "3069     Benin  Alibori  Malanville (CBM)          51      Maize - Wholesale   \n",
       "...        ...      ...               ...         ...                    ...   \n",
       "902012  Uganda     Lira              Lira         147  Plantains - Wholesale   \n",
       "902013  Uganda     Lira              Lira         147  Plantains - Wholesale   \n",
       "902014  Uganda     Lira              Lira         147  Plantains - Wholesale   \n",
       "902015  Uganda     Lira              Lira         147  Plantains - Wholesale   \n",
       "902016  Uganda     Lira              Lira         147  Plantains - Wholesale   \n",
       "\n",
       "       currency trade_class  amount_swapped quantity  month  year    price  \n",
       "3065        XOF   Wholesale               5       KG      1  2002   145.00  \n",
       "3066        XOF   Wholesale               5       KG      1  2003   106.00  \n",
       "3067        XOF   Wholesale               5       KG      2  2003   107.50  \n",
       "3068        XOF   Wholesale               5       KG      3  2003    95.00  \n",
       "3069        XOF   Wholesale               5       KG      4  2003    95.00  \n",
       "...         ...         ...             ...      ...    ...   ...      ...  \n",
       "902012      UGX   Wholesale               5       KG      7  2018  1062.50  \n",
       "902013      UGX   Wholesale               5       KG      8  2018   910.00  \n",
       "902014      UGX   Wholesale               5       KG      9  2018   900.00  \n",
       "902015      UGX   Wholesale               5       KG     10  2018   983.33  \n",
       "902016      UGX   Wholesale               5       KG     11  2018  1000.00  \n",
       "\n",
       "[70613 rows x 12 columns]"
      ]
     },
     "execution_count": 36,
     "metadata": {},
     "output_type": "execute_result"
    }
   ],
   "source": [
    "ws_group"
   ]
  },
  {
   "cell_type": "code",
   "execution_count": 37,
   "id": "0faf47b5-c238-41af-ae43-297966335ef4",
   "metadata": {
    "tags": []
   },
   "outputs": [],
   "source": [
    "retail_group = products.groupby('trade_class').get_group('Retail')"
   ]
  },
  {
   "cell_type": "code",
   "execution_count": 38,
   "id": "68d32fed-9825-4f4f-9ccd-5dc311e211b7",
   "metadata": {
    "tags": []
   },
   "outputs": [
    {
     "data": {
      "text/html": [
       "<div>\n",
       "<style scoped>\n",
       "    .dataframe tbody tr th:only-of-type {\n",
       "        vertical-align: middle;\n",
       "    }\n",
       "\n",
       "    .dataframe tbody tr th {\n",
       "        vertical-align: top;\n",
       "    }\n",
       "\n",
       "    .dataframe thead th {\n",
       "        text-align: right;\n",
       "    }\n",
       "</style>\n",
       "<table border=\"1\" class=\"dataframe\">\n",
       "  <thead>\n",
       "    <tr style=\"text-align: right;\">\n",
       "      <th></th>\n",
       "      <th>country</th>\n",
       "      <th>state</th>\n",
       "      <th>market</th>\n",
       "      <th>produce_id</th>\n",
       "      <th>produce</th>\n",
       "      <th>currency</th>\n",
       "      <th>trade_class</th>\n",
       "      <th>amount_swapped</th>\n",
       "      <th>quantity</th>\n",
       "      <th>month</th>\n",
       "      <th>year</th>\n",
       "      <th>price</th>\n",
       "    </tr>\n",
       "  </thead>\n",
       "  <tbody>\n",
       "    <tr>\n",
       "      <th>0</th>\n",
       "      <td>Algeria</td>\n",
       "      <td>Alger</td>\n",
       "      <td>Algiers</td>\n",
       "      <td>52</td>\n",
       "      <td>Rice - Retail</td>\n",
       "      <td>DZD</td>\n",
       "      <td>Retail</td>\n",
       "      <td>5</td>\n",
       "      <td>KG</td>\n",
       "      <td>4</td>\n",
       "      <td>2015</td>\n",
       "      <td>90.0000</td>\n",
       "    </tr>\n",
       "    <tr>\n",
       "      <th>1</th>\n",
       "      <td>Algeria</td>\n",
       "      <td>Alger</td>\n",
       "      <td>Algiers</td>\n",
       "      <td>52</td>\n",
       "      <td>Rice - Retail</td>\n",
       "      <td>DZD</td>\n",
       "      <td>Retail</td>\n",
       "      <td>5</td>\n",
       "      <td>KG</td>\n",
       "      <td>5</td>\n",
       "      <td>2015</td>\n",
       "      <td>96.0000</td>\n",
       "    </tr>\n",
       "    <tr>\n",
       "      <th>2</th>\n",
       "      <td>Algeria</td>\n",
       "      <td>Alger</td>\n",
       "      <td>Algiers</td>\n",
       "      <td>52</td>\n",
       "      <td>Rice - Retail</td>\n",
       "      <td>DZD</td>\n",
       "      <td>Retail</td>\n",
       "      <td>5</td>\n",
       "      <td>KG</td>\n",
       "      <td>6</td>\n",
       "      <td>2015</td>\n",
       "      <td>96.0000</td>\n",
       "    </tr>\n",
       "    <tr>\n",
       "      <th>3</th>\n",
       "      <td>Algeria</td>\n",
       "      <td>Alger</td>\n",
       "      <td>Algiers</td>\n",
       "      <td>52</td>\n",
       "      <td>Rice - Retail</td>\n",
       "      <td>DZD</td>\n",
       "      <td>Retail</td>\n",
       "      <td>5</td>\n",
       "      <td>KG</td>\n",
       "      <td>7</td>\n",
       "      <td>2015</td>\n",
       "      <td>83.0000</td>\n",
       "    </tr>\n",
       "    <tr>\n",
       "      <th>4</th>\n",
       "      <td>Algeria</td>\n",
       "      <td>Alger</td>\n",
       "      <td>Algiers</td>\n",
       "      <td>52</td>\n",
       "      <td>Rice - Retail</td>\n",
       "      <td>DZD</td>\n",
       "      <td>Retail</td>\n",
       "      <td>5</td>\n",
       "      <td>KG</td>\n",
       "      <td>8</td>\n",
       "      <td>2015</td>\n",
       "      <td>80.0000</td>\n",
       "    </tr>\n",
       "    <tr>\n",
       "      <th>...</th>\n",
       "      <td>...</td>\n",
       "      <td>...</td>\n",
       "      <td>...</td>\n",
       "      <td>...</td>\n",
       "      <td>...</td>\n",
       "      <td>...</td>\n",
       "      <td>...</td>\n",
       "      <td>...</td>\n",
       "      <td>...</td>\n",
       "      <td>...</td>\n",
       "      <td>...</td>\n",
       "      <td>...</td>\n",
       "    </tr>\n",
       "    <tr>\n",
       "      <th>956774</th>\n",
       "      <td>Zimbabwe</td>\n",
       "      <td>Midlands</td>\n",
       "      <td>Mbilashaba</td>\n",
       "      <td>432</td>\n",
       "      <td>Beans (sugar) - Retail</td>\n",
       "      <td>ZWL</td>\n",
       "      <td>Retail</td>\n",
       "      <td>5</td>\n",
       "      <td>KG</td>\n",
       "      <td>6</td>\n",
       "      <td>2021</td>\n",
       "      <td>233.3333</td>\n",
       "    </tr>\n",
       "    <tr>\n",
       "      <th>956775</th>\n",
       "      <td>Zimbabwe</td>\n",
       "      <td>Midlands</td>\n",
       "      <td>Mbilashaba</td>\n",
       "      <td>539</td>\n",
       "      <td>Toothpaste - Retail</td>\n",
       "      <td>ZWL</td>\n",
       "      <td>Retail</td>\n",
       "      <td>116</td>\n",
       "      <td>100 ML</td>\n",
       "      <td>6</td>\n",
       "      <td>2021</td>\n",
       "      <td>112.5000</td>\n",
       "    </tr>\n",
       "    <tr>\n",
       "      <th>956776</th>\n",
       "      <td>Zimbabwe</td>\n",
       "      <td>Midlands</td>\n",
       "      <td>Mbilashaba</td>\n",
       "      <td>540</td>\n",
       "      <td>Laundry soap - Retail</td>\n",
       "      <td>ZWL</td>\n",
       "      <td>Retail</td>\n",
       "      <td>5</td>\n",
       "      <td>KG</td>\n",
       "      <td>6</td>\n",
       "      <td>2021</td>\n",
       "      <td>114.0000</td>\n",
       "    </tr>\n",
       "    <tr>\n",
       "      <th>956777</th>\n",
       "      <td>Zimbabwe</td>\n",
       "      <td>Midlands</td>\n",
       "      <td>Mbilashaba</td>\n",
       "      <td>541</td>\n",
       "      <td>Handwash soap - Retail</td>\n",
       "      <td>ZWL</td>\n",
       "      <td>Retail</td>\n",
       "      <td>66</td>\n",
       "      <td>250 G</td>\n",
       "      <td>6</td>\n",
       "      <td>2021</td>\n",
       "      <td>59.5000</td>\n",
       "    </tr>\n",
       "    <tr>\n",
       "      <th>956778</th>\n",
       "      <td>Zimbabwe</td>\n",
       "      <td>Midlands</td>\n",
       "      <td>Mbilashaba</td>\n",
       "      <td>887</td>\n",
       "      <td>Fish (kapenta) - Retail</td>\n",
       "      <td>ZWL</td>\n",
       "      <td>Retail</td>\n",
       "      <td>5</td>\n",
       "      <td>KG</td>\n",
       "      <td>6</td>\n",
       "      <td>2021</td>\n",
       "      <td>1200.0000</td>\n",
       "    </tr>\n",
       "  </tbody>\n",
       "</table>\n",
       "<p>885918 rows × 12 columns</p>\n",
       "</div>"
      ],
      "text/plain": [
       "         country     state      market  produce_id                  produce  \\\n",
       "0        Algeria     Alger     Algiers          52            Rice - Retail   \n",
       "1        Algeria     Alger     Algiers          52            Rice - Retail   \n",
       "2        Algeria     Alger     Algiers          52            Rice - Retail   \n",
       "3        Algeria     Alger     Algiers          52            Rice - Retail   \n",
       "4        Algeria     Alger     Algiers          52            Rice - Retail   \n",
       "...          ...       ...         ...         ...                      ...   \n",
       "956774  Zimbabwe  Midlands  Mbilashaba         432   Beans (sugar) - Retail   \n",
       "956775  Zimbabwe  Midlands  Mbilashaba         539      Toothpaste - Retail   \n",
       "956776  Zimbabwe  Midlands  Mbilashaba         540    Laundry soap - Retail   \n",
       "956777  Zimbabwe  Midlands  Mbilashaba         541   Handwash soap - Retail   \n",
       "956778  Zimbabwe  Midlands  Mbilashaba         887  Fish (kapenta) - Retail   \n",
       "\n",
       "       currency trade_class  amount_swapped quantity  month  year      price  \n",
       "0           DZD      Retail               5       KG      4  2015    90.0000  \n",
       "1           DZD      Retail               5       KG      5  2015    96.0000  \n",
       "2           DZD      Retail               5       KG      6  2015    96.0000  \n",
       "3           DZD      Retail               5       KG      7  2015    83.0000  \n",
       "4           DZD      Retail               5       KG      8  2015    80.0000  \n",
       "...         ...         ...             ...      ...    ...   ...        ...  \n",
       "956774      ZWL      Retail               5       KG      6  2021   233.3333  \n",
       "956775      ZWL      Retail             116   100 ML      6  2021   112.5000  \n",
       "956776      ZWL      Retail               5       KG      6  2021   114.0000  \n",
       "956777      ZWL      Retail              66    250 G      6  2021    59.5000  \n",
       "956778      ZWL      Retail               5       KG      6  2021  1200.0000  \n",
       "\n",
       "[885918 rows x 12 columns]"
      ]
     },
     "execution_count": 38,
     "metadata": {},
     "output_type": "execute_result"
    }
   ],
   "source": [
    "retail_group"
   ]
  },
  {
   "cell_type": "markdown",
   "id": "53df7e10-7cc7-42a4-910e-fc06d5b9ba0e",
   "metadata": {},
   "source": [
    "# RESEARCH QUESTIONS"
   ]
  },
  {
   "cell_type": "markdown",
   "id": "2d7c52c3-7595-4f83-88ca-4c995cce060b",
   "metadata": {},
   "source": [
    "### 1. What is the most price that was recorded for each of the product"
   ]
  },
  {
   "cell_type": "code",
   "execution_count": 39,
   "id": "a8cad7ce-e5ee-4ab8-846b-dd770aa5e80d",
   "metadata": {},
   "outputs": [
    {
     "name": "stdout",
     "output_type": "stream",
     "text": [
      "most price that was recorded for each of the product item:\n",
      "produce\n",
      "Apples (red) - Retail           3600.0\n",
      "Apples - Retail                  500.0\n",
      "Avocados - Retail               2200.0\n",
      "Bananas (imported) - Retail     2500.0\n",
      "Bananas (local) - Retail        1189.0\n",
      "                                ...   \n",
      "Yam (yellow) - Retail           1000.0\n",
      "Yam - Retail                    2500.0\n",
      "Yam - Wholesale                90000.0\n",
      "Yogurt - Retail                  125.0\n",
      "Zucchini - Retail                944.5\n",
      "Name: price, Length: 457, dtype: float64\n"
     ]
    }
   ],
   "source": [
    "most_price_by_produce = products.groupby('produce')['price'].max()\n",
    "print(f\"most price that was recorded for each of the product item:\\n{most_price_by_produce}\")"
   ]
  },
  {
   "cell_type": "markdown",
   "id": "33881de9-87f0-40f2-ab53-3f721955018d",
   "metadata": {},
   "source": [
    "### 2. What was the average price of a Sorghum - retail for each year from 1990 - - 2021?"
   ]
  },
  {
   "cell_type": "code",
   "execution_count": 40,
   "id": "9db825b0-f694-4159-b215-7104de185f8e",
   "metadata": {
    "tags": []
   },
   "outputs": [
    {
     "name": "stdout",
     "output_type": "stream",
     "text": [
      "year\n",
      "1990     58.695652\n",
      "1991     69.988636\n",
      "1992     61.927083\n",
      "1993     58.904762\n",
      "1994     67.306818\n",
      "1995     71.958333\n",
      "1996    107.750000\n",
      "1997    139.114583\n",
      "1998    164.011111\n",
      "1999     98.022222\n",
      "2000    117.389468\n",
      "2001    153.674628\n",
      "2002    173.258256\n",
      "2003    104.329071\n",
      "2004     97.157279\n",
      "2005    149.590103\n",
      "2006     85.070947\n",
      "2007    123.382696\n",
      "2008    161.320093\n",
      "2009    170.900854\n",
      "2010    158.771477\n",
      "2011    177.641257\n",
      "2012    476.002068\n",
      "2013    305.604257\n",
      "2014    228.590214\n",
      "2015    280.393189\n",
      "2016    291.340894\n",
      "2017    386.644729\n",
      "2018    249.790624\n",
      "2019    272.073253\n",
      "2020    279.375853\n",
      "2021    261.584705\n",
      "Name: price, dtype: float64\n"
     ]
    }
   ],
   "source": [
    "# Filter for a specific produce\n",
    "specific_produce = 'Sorghum - Retail'\n",
    "produce_df = products[products['produce'] == specific_produce]\n",
    "\n",
    "# Calculate average price per year\n",
    "avg_price_per_year = produce_df.groupby('year')['price'].mean()\n",
    "\n",
    "print(avg_price_per_year)"
   ]
  },
  {
   "cell_type": "markdown",
   "id": "64551a10-b0fa-4cdc-94de-aa29844b07e0",
   "metadata": {},
   "source": [
    "### 3. What is the distribution of quantities traded (in KG) across all market "
   ]
  },
  {
   "cell_type": "code",
   "execution_count": 41,
   "id": "cfef04aa-0154-4489-8ba6-b2516736ecf4",
   "metadata": {
    "tags": []
   },
   "outputs": [
    {
     "data": {
      "image/png": "[encoded data removed]",
      "text/plain": [
       "<Figure size 1000x600 with 1 Axes>"
      ]
     },
     "metadata": {},
     "output_type": "display_data"
    }
   ],
   "source": [
    "import matplotlib.pyplot as plt\n",
    "\n",
    "# Convert quantity to numeric (assuming it's currently stored as object)\n",
    "products['quantity'] = pd.to_numeric(products['quantity'], errors='coerce')\n",
    "\n",
    "# Plot distribution of quantities traded\n",
    "plt.figure(figsize=(10, 6))\n",
    "plt.hist(products['quantity'].dropna(), bins=50, edgecolor='black')\n",
    "plt.xlabel('Quantity (KG)')\n",
    "plt.ylabel('Frequency')\n",
    "plt.title('Distribution of Quantities Traded')\n",
    "plt.show()"
   ]
  },
  {
   "cell_type": "markdown",
   "id": "13d9e582-6d06-49d9-b74f-b803d6f320ea",
   "metadata": {},
   "source": [
    "### 4. Identify the 5 top states with the highest average produce price and plot a bar chart."
   ]
  },
  {
   "cell_type": "markdown",
   "id": "828c3c9e-b77c-4fb3-a266-cc85f50c57bc",
   "metadata": {
    "tags": []
   },
   "source": [
    "Identification of the top 5 states with the highest average produce price\n",
    "and the visualization of the result in a bar chart with be done by using\n",
    "'pandas' and 'matplotlab'."
   ]
  },
  {
   "cell_type": "code",
   "execution_count": 42,
   "id": "4d11a8d1-dfb5-41f8-94b1-fde4c7e83396",
   "metadata": {
    "tags": []
   },
   "outputs": [],
   "source": [
    "# Group by state and calculate the average price\n",
    "avg_price_per_state = products.groupby('state')['price'].mean().reset_index()\n"
   ]
  },
  {
   "cell_type": "code",
   "execution_count": 43,
   "id": "42a3210e-6e16-4530-b530-ddff9d35bc74",
   "metadata": {
    "tags": []
   },
   "outputs": [],
   "source": [
    "# Sort the states by average price in descending order and get the top 5\n",
    "top_5_states = avg_price_per_state.sort_values(by='price', ascending=False).head(5)"
   ]
  },
  {
   "cell_type": "code",
   "execution_count": 44,
   "id": "894b28dd-4d49-494e-8fb7-9ff64d154470",
   "metadata": {
    "tags": []
   },
   "outputs": [
    {
     "data": {
      "image/png": "[encoded data removed]",
      "text/plain": [
       "<Figure size 1000x600 with 1 Axes>"
      ]
     },
     "metadata": {},
     "output_type": "display_data"
    }
   ],
   "source": [
    "# Plotting the top 5 states with the highest average produce price\n",
    "plt.figure(figsize=(10, 6))\n",
    "plt.bar(top_5_states['state'], top_5_states['price'], color='skyblue')\n",
    "plt.title('Top 5 States with Highest Average Produce Price')\n",
    "plt.xlabel('State')\n",
    "plt.ylabel('Average Price')\n",
    "plt.show()"
   ]
  },
  {
   "cell_type": "markdown",
   "id": "8b0bcefa-b2e2-4455-a845-bdc15665aecc",
   "metadata": {},
   "source": [
    "### 5. How has the average price of produce changed over the years?\n",
    "Show in plot."
   ]
  },
  {
   "cell_type": "code",
   "execution_count": 45,
   "id": "d301473d-aad7-4cc3-be55-fb7e0e54544b",
   "metadata": {
    "tags": []
   },
   "outputs": [
    {
     "data": {
      "image/png": "[encoded data removed]",
      "text/plain": [
       "<Figure size 640x480 with 1 Axes>"
      ]
     },
     "metadata": {},
     "output_type": "display_data"
    },
    {
     "data": {
      "image/png": "[encoded data removed]",
      "text/plain": [
       "<Figure size 1000x600 with 1 Axes>"
      ]
     },
     "metadata": {},
     "output_type": "display_data"
    }
   ],
   "source": [
    "# Group by year and calculate the average price\n",
    "avg_price_yearly = products.groupby('year')['price'].mean()\n",
    "\n",
    "# Plot the average price over the years\n",
    "plt.title('Average Price of Produce Over the Years')\n",
    "plt.plot(avg_price_yearly.index, avg_price_yearly.values, marker='o')\n",
    "plt.xlabel('Year')\n",
    "plt.figure(figsize=(10, 6))\n",
    "plt.ylabel('Average Price')\n",
    "plt.grid(True)\n",
    "plt.show()"
   ]
  },
  {
   "cell_type": "markdown",
   "id": "5ba234e5-5672-4b34-839d-c0633ad286ec",
   "metadata": {},
   "source": [
    "# 6. What is the correlation between the year and the price"
   ]
  },
  {
   "cell_type": "code",
   "execution_count": 52,
   "id": "de2df310-d88a-4606-a559-0c32a0b70521",
   "metadata": {
    "tags": []
   },
   "outputs": [
    {
     "data": {
      "text/html": [
       "<div>\n",
       "<style scoped>\n",
       "    .dataframe tbody tr th:only-of-type {\n",
       "        vertical-align: middle;\n",
       "    }\n",
       "\n",
       "    .dataframe tbody tr th {\n",
       "        vertical-align: top;\n",
       "    }\n",
       "\n",
       "    .dataframe thead th {\n",
       "        text-align: right;\n",
       "    }\n",
       "</style>\n",
       "<table border=\"1\" class=\"dataframe\">\n",
       "  <thead>\n",
       "    <tr style=\"text-align: right;\">\n",
       "      <th></th>\n",
       "      <th>year</th>\n",
       "      <th>price</th>\n",
       "    </tr>\n",
       "  </thead>\n",
       "  <tbody>\n",
       "    <tr>\n",
       "      <th>year</th>\n",
       "      <td>1.000000</td>\n",
       "      <td>-0.005776</td>\n",
       "    </tr>\n",
       "    <tr>\n",
       "      <th>price</th>\n",
       "      <td>-0.005776</td>\n",
       "      <td>1.000000</td>\n",
       "    </tr>\n",
       "  </tbody>\n",
       "</table>\n",
       "</div>"
      ],
      "text/plain": [
       "           year     price\n",
       "year   1.000000 -0.005776\n",
       "price -0.005776  1.000000"
      ]
     },
     "execution_count": 52,
     "metadata": {},
     "output_type": "execute_result"
    }
   ],
   "source": [
    "products[['year','price']].corr()"
   ]
  },
  {
   "cell_type": "markdown",
   "id": "9f2e2b13-aac7-4a78-8372-4da775535810",
   "metadata": {},
   "source": [
    "# 7. What is the distribution of product prices?"
   ]
  },
  {
   "cell_type": "code",
   "execution_count": 47,
   "id": "76dbcac6-d6e6-4f83-880f-8ee744bcbe48",
   "metadata": {
    "tags": []
   },
   "outputs": [
    {
     "data": {
      "image/png": "[encoded data removed]",
      "text/plain": [
       "<Figure size 640x480 with 1 Axes>"
      ]
     },
     "metadata": {},
     "output_type": "display_data"
    }
   ],
   "source": [
    "import matplotlib.pyplot as plt\n",
    "\n",
    "plt.hist(products['price'], bins=20, edgecolor='k')\n",
    "plt.xlabel('price')\n",
    "plt.ylabel('Frequency')\n",
    "plt.title('Distribution of Product Price')\n",
    "plt.show()"
   ]
  },
  {
   "cell_type": "markdown",
   "id": "609e0186-eeaf-4f18-b670-d67b08af2082",
   "metadata": {},
   "source": [
    "There's no symmetrical equality"
   ]
  },
  {
   "cell_type": "markdown",
   "id": "92063742-8e94-44b9-be9d-c83e453a741c",
   "metadata": {},
   "source": [
    "# 8. What is the total amount swapped quantity of all products?"
   ]
  },
  {
   "cell_type": "code",
   "execution_count": 48,
   "id": "4e9ff405-7223-4183-98f0-3c1fe3780fbf",
   "metadata": {
    "tags": []
   },
   "outputs": [
    {
     "name": "stdout",
     "output_type": "stream",
     "text": [
      "13411346\n"
     ]
    }
   ],
   "source": [
    "total_stock = products['amount_swapped'].sum()\n",
    "print(total_stock)"
   ]
  },
  {
   "cell_type": "markdown",
   "id": "afdb631c-7bb1-4b34-bad6-d9fc1a41ffb0",
   "metadata": {},
   "source": [
    "# 9. Which product has the highest price?"
   ]
  },
  {
   "cell_type": "code",
   "execution_count": 49,
   "id": "3d00a6bd-27af-41ed-924b-7128d454bdcf",
   "metadata": {
    "tags": []
   },
   "outputs": [
    {
     "name": "stdout",
     "output_type": "stream",
     "text": [
      "country                         Somalia\n",
      "state                             Mudug\n",
      "market                        Gaalkacyo\n",
      "produce_id                          344\n",
      "produce           Meat (camel) - Retail\n",
      "currency                            SOS\n",
      "trade_class                      Retail\n",
      "amount_swapped                       33\n",
      "quantity                            NaN\n",
      "month                                12\n",
      "year                               2015\n",
      "price                        17250000.0\n",
      "Name: 852171, dtype: object\n"
     ]
    }
   ],
   "source": [
    "highest_priced_product = products.loc[products['price'].idxmax()]\n",
    "print(highest_priced_product)"
   ]
  },
  {
   "cell_type": "markdown",
   "id": "8e98badb-1db6-4b22-a452-e22cd26af026",
   "metadata": {},
   "source": [
    "# 10. What are the top 10 products"
   ]
  },
  {
   "cell_type": "code",
   "execution_count": 58,
   "id": "cefebb8c-bc6c-4666-a464-3812caf4f93e",
   "metadata": {
    "tags": []
   },
   "outputs": [],
   "source": [
    "top_produce = products.groupby(['produce']).produce_id.count().sort_values(ascending=False).head(11)"
   ]
  },
  {
   "cell_type": "code",
   "execution_count": 59,
   "id": "838bc504-8ae1-4f64-bcc7-390ab859cdd8",
   "metadata": {
    "tags": []
   },
   "outputs": [
    {
     "data": {
      "text/plain": [
       "produce\n",
       "Millet - Retail                  47476\n",
       "Rice (imported) - Retail         47022\n",
       "Sorghum - Retail                 44679\n",
       "Maize - Retail                   43073\n",
       "Maize (white) - Retail           33786\n",
       "Rice (local) - Retail            31126\n",
       "Groundnuts (shelled) - Retail    23221\n",
       "Beans (dry) - Retail             16173\n",
       "Beans (niebe) - Retail           15760\n",
       "Rice - Retail                    15513\n",
       "Oil (vegetable) - Retail         14799\n",
       "Name: produce_id, dtype: int64"
      ]
     },
     "execution_count": 59,
     "metadata": {},
     "output_type": "execute_result"
    }
   ],
   "source": [
    "top_produce"
   ]
  },
  {
   "cell_type": "code",
   "execution_count": null,
   "id": "61bd878c-9f5b-43d2-8e92-807fc7de2d2d",
   "metadata": {},
   "outputs": [],
   "source": []
  }
 ],
 "metadata": {
  "kernelspec": {
   "display_name": "Python 3 (ipykernel)",
   "language": "python",
   "name": "python3"
  },
  "language_info": {
   "codemirror_mode": {
    "name": "ipython",
    "version": 3
   },
   "file_extension": ".py",
   "mimetype": "text/x-python",
   "name": "python",
   "nbconvert_exporter": "python",
   "pygments_lexer": "ipython3",
   "version": "3.11.5"
  }
 },
 "nbformat": 4,
 "nbformat_minor": 5
}
